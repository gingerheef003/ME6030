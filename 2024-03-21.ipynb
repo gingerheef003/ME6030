{
 "cells": [
  {
   "cell_type": "markdown",
   "id": "1b8f46ee-3700-472a-b887-a906d4f7dca4",
   "metadata": {},
   "source": [
    "$e^{[A]t} = I + [A]t + \\frac{[A]^2 t^2}{2!} + \\frac{[A]^3 t^3}{3!} + \\dots$"
   ]
  },
  {
   "cell_type": "code",
   "execution_count": null,
   "id": "5c8e17d8-90e2-4f16-8632-c392fd9f946f",
   "metadata": {},
   "outputs": [],
   "source": []
  }
 ],
 "metadata": {
  "kernelspec": {
   "display_name": "SageMath 10.3",
   "language": "sage",
   "name": "sagemath"
  },
  "language_info": {
   "codemirror_mode": {
    "name": "ipython",
    "version": 3
   },
   "file_extension": ".py",
   "mimetype": "text/x-python",
   "name": "python",
   "nbconvert_exporter": "python",
   "pygments_lexer": "ipython3",
   "version": "3.11.8"
  }
 },
 "nbformat": 4,
 "nbformat_minor": 5
}
