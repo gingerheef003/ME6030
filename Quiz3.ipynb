{
 "cells": [
  {
   "cell_type": "code",
   "execution_count": 1,
   "id": "ef4c5bed-25e7-4fbc-8321-1c8f3c262412",
   "metadata": {},
   "outputs": [],
   "source": [
    "v1 = vector([-1,-1,0,0,1])"
   ]
  },
  {
   "cell_type": "code",
   "execution_count": 2,
   "id": "748b7feb-2feb-4249-8397-9034a992857e",
   "metadata": {},
   "outputs": [],
   "source": [
    "v2 = vector([0,-1,0,0,1])"
   ]
  },
  {
   "cell_type": "code",
   "execution_count": 7,
   "id": "bbb7352c-5aed-4dff-a7f5-3683a303659f",
   "metadata": {},
   "outputs": [
    {
     "data": {
      "text/plain": [
       "(al, bt)"
      ]
     },
     "execution_count": 7,
     "metadata": {},
     "output_type": "execute_result"
    }
   ],
   "source": [
    "var('al','bt')"
   ]
  },
  {
   "cell_type": "code",
   "execution_count": 8,
   "id": "4bb0f155-126b-4525-a4da-507b821371cb",
   "metadata": {},
   "outputs": [],
   "source": [
    "v = al*v1 + bt*v2"
   ]
  },
  {
   "cell_type": "code",
   "execution_count": 9,
   "id": "9753008e-e9b9-4720-a838-8a1448c19d0d",
   "metadata": {},
   "outputs": [
    {
     "data": {
      "text/html": [
       "<html>\\(\\displaystyle \\left(-\\mathit{al},\\,-\\mathit{al} - \\mathit{bt},\\,0,\\,0,\\,\\mathit{al} + \\mathit{bt}\\right)\\)</html>"
      ],
      "text/latex": [
       "$\\displaystyle \\left(-\\mathit{al},\\,-\\mathit{al} - \\mathit{bt},\\,0,\\,0,\\,\\mathit{al} + \\mathit{bt}\\right)$"
      ],
      "text/plain": [
       "(-al, -al - bt, 0, 0, al + bt)"
      ]
     },
     "metadata": {},
     "output_type": "display_data"
    }
   ],
   "source": [
    "show(v)"
   ]
  },
  {
   "cell_type": "code",
   "execution_count": 11,
   "id": "2275947b-ed39-4e2a-9dd9-4d441e4c8a5c",
   "metadata": {},
   "outputs": [],
   "source": [
    "A = matrix([[-2,-2,2,2,1],\n",
    "            [2,-2,0,-2,1],\n",
    "            [-2,-2,-2,1,2],\n",
    "            [-2,1,-1,2,1],\n",
    "            [1,1,1,2,1]\n",
    "           ])"
   ]
  },
  {
   "cell_type": "code",
   "execution_count": 12,
   "id": "eea212ee-09cc-4e8b-a202-232a92500fe9",
   "metadata": {},
   "outputs": [
    {
     "data": {
      "text/html": [
       "<html>\\(\\displaystyle \\left(\\begin{array}{rrrrr}\n",
       "-2 & -2 & 2 & 2 & 1 \\\\\n",
       "2 & -2 & 0 & -2 & 1 \\\\\n",
       "-2 & -2 & -2 & 1 & 2 \\\\\n",
       "-2 & 1 & -1 & 2 & 1 \\\\\n",
       "1 & 1 & 1 & 2 & 1\n",
       "\\end{array}\\right)\\)</html>"
      ],
      "text/latex": [
       "$\\displaystyle \\left(\\begin{array}{rrrrr}\n",
       "-2 & -2 & 2 & 2 & 1 \\\\\n",
       "2 & -2 & 0 & -2 & 1 \\\\\n",
       "-2 & -2 & -2 & 1 & 2 \\\\\n",
       "-2 & 1 & -1 & 2 & 1 \\\\\n",
       "1 & 1 & 1 & 2 & 1\n",
       "\\end{array}\\right)$"
      ],
      "text/plain": [
       "[-2 -2  2  2  1]\n",
       "[ 2 -2  0 -2  1]\n",
       "[-2 -2 -2  1  2]\n",
       "[-2  1 -1  2  1]\n",
       "[ 1  1  1  2  1]"
      ]
     },
     "metadata": {},
     "output_type": "display_data"
    }
   ],
   "source": [
    "show(A)"
   ]
  },
  {
   "cell_type": "code",
   "execution_count": 13,
   "id": "69d69698-192b-4cf1-a652-e8e5b014f749",
   "metadata": {},
   "outputs": [
    {
     "data": {
      "text/html": [
       "<html>\\(\\displaystyle \\left(5,\\,1,\\,6,\\,2,\\,-1\\right)\\)</html>"
      ],
      "text/latex": [
       "$\\displaystyle \\left(5,\\,1,\\,6,\\,2,\\,-1\\right)$"
      ],
      "text/plain": [
       "(5, 1, 6, 2, -1)"
      ]
     },
     "metadata": {},
     "output_type": "display_data"
    }
   ],
   "source": [
    "show(A*v1)"
   ]
  },
  {
   "cell_type": "code",
   "execution_count": 14,
   "id": "e799c0b8-c963-492b-9b51-551d76b84d5c",
   "metadata": {},
   "outputs": [
    {
     "data": {
      "text/html": [
       "<html>\\(\\displaystyle \\left(3,\\,3,\\,4,\\,0,\\,0\\right)\\)</html>"
      ],
      "text/latex": [
       "$\\displaystyle \\left(3,\\,3,\\,4,\\,0,\\,0\\right)$"
      ],
      "text/plain": [
       "(3, 3, 4, 0, 0)"
      ]
     },
     "metadata": {},
     "output_type": "display_data"
    }
   ],
   "source": [
    "show(A*v2)"
   ]
  },
  {
   "cell_type": "code",
   "execution_count": 19,
   "id": "fce08cf5-173d-421d-a604-371f388f9c03",
   "metadata": {},
   "outputs": [],
   "source": [
    "vects = A.eigenvectors_right()"
   ]
  },
  {
   "cell_type": "code",
   "execution_count": 25,
   "id": "61bdda63-bd70-4475-a165-35b9e207d4f3",
   "metadata": {},
   "outputs": [],
   "source": [
    "v1_n = v1 / norm(v1)"
   ]
  },
  {
   "cell_type": "code",
   "execution_count": 27,
   "id": "23e2cc55-6d95-4443-b081-6f1c3d89281c",
   "metadata": {},
   "outputs": [
    {
     "data": {
      "text/plain": [
       "(a, b)"
      ]
     },
     "execution_count": 27,
     "metadata": {},
     "output_type": "execute_result"
    }
   ],
   "source": [
    "var('a', 'b')"
   ]
  },
  {
   "cell_type": "code",
   "execution_count": null,
   "id": "2c74b6de-9e56-4d2a-8672-6dccacb1e026",
   "metadata": {},
   "outputs": [],
   "source": [
    "X = matrix()"
   ]
  }
 ],
 "metadata": {
  "kernelspec": {
   "display_name": "SageMath 10.3",
   "language": "sage",
   "name": "sagemath"
  },
  "language_info": {
   "codemirror_mode": {
    "name": "ipython",
    "version": 3
   },
   "file_extension": ".py",
   "mimetype": "text/x-python",
   "name": "python",
   "nbconvert_exporter": "python",
   "pygments_lexer": "ipython3",
   "version": "3.11.8"
  }
 },
 "nbformat": 4,
 "nbformat_minor": 5
}
