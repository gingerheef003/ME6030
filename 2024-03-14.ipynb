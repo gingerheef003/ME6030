{
 "cells": [
  {
   "cell_type": "code",
   "execution_count": 22,
   "metadata": {
    "collapsed": false
   },
   "outputs": [
    {
     "data": {
      "text/html": [
       "<html>\\(\\displaystyle 5 \\, x^{3} + 4 \\, x^{2}\\)</html>"
      ],
      "text/latex": [
       "$\\displaystyle 5 \\, x^{3} + 4 \\, x^{2}$"
      ],
      "text/plain": [
       "5*x^3 + 4*x^2"
      ]
     },
     "execution_count": 22,
     "metadata": {
     },
     "output_type": "execute_result"
    }
   ],
   "source": [
    "w = 4*x^2 + 5*x^3\n",
    "show(w)"
   ]
  },
  {
   "cell_type": "code",
   "execution_count": 27,
   "metadata": {
    "collapsed": false
   },
   "outputs": [
    {
     "data": {
      "text/html": [
       "<html>\\(\\displaystyle \\frac{5}{4} \\, x^{4} + \\frac{4}{3} \\, x^{3} + c\\)</html>"
      ],
      "text/latex": [
       "$\\displaystyle \\frac{5}{4} \\, x^{4} + \\frac{4}{3} \\, x^{3} + c$"
      ],
      "text/plain": [
       "5/4*x^4 + 4/3*x^3 + c"
      ]
     },
     "execution_count": 27,
     "metadata": {
     },
     "output_type": "execute_result"
    }
   ],
   "source": [
    "var('c')\n",
    "show(integrate(w,x) + c)"
   ]
  },
  {
   "cell_type": "code",
   "execution_count": 28,
   "metadata": {
    "collapsed": false
   },
   "outputs": [
    {
     "data": {
      "text/html": [
       "<html>\\(\\displaystyle \\frac{1}{6} \\, d_{1} x^{3} + \\frac{p x^{4}}{24 \\, \\mathit{EI}} + \\frac{1}{2} \\, d_{2} x^{2} + d_{3} x + d_{4}\\)</html>"
      ],
      "text/latex": [
       "$\\displaystyle \\frac{1}{6} \\, d_{1} x^{3} + \\frac{p x^{4}}{24 \\, \\mathit{EI}} + \\frac{1}{2} \\, d_{2} x^{2} + d_{3} x + d_{4}$"
      ],
      "text/plain": [
       "1/6*d1*x^3 + 1/24*p*x^4/EI + 1/2*d2*x^2 + d3*x + d4"
      ]
     },
     "execution_count": 28,
     "metadata": {
     },
     "output_type": "execute_result"
    }
   ],
   "source": [
    "var('EI, L, p, d1, d2, d3, d4')\n",
    "junk1 = integrate(p/EI, x)+d1\n",
    "junk2 = integrate(junk1, x)+d2\n",
    "junk3 = integrate(junk2, x)+d3\n",
    "junk4 = integrate(junk3, x)+d4\n",
    "# need to include the constants of integration\n",
    "show(junk4)"
   ]
  },
  {
   "cell_type": "code",
   "execution_count": 29,
   "metadata": {
    "collapsed": false
   },
   "outputs": [
   ],
   "source": [
    "eq1lhs = junk4.subs(x=0)\n",
    "eq2lhs = diff(junk4, x).subs(x=0)\n",
    "eq3lhs = junk4.subs(x=L)\n",
    "eq4lhs = diff(junk4, x).subs(x=L)"
   ]
  },
  {
   "cell_type": "code",
   "execution_count": 30,
   "metadata": {
    "collapsed": false
   },
   "outputs": [
    {
     "data": {
      "text/html": [
       "<html>\\(\\displaystyle \\left[d_{1} = -\\frac{L p}{2 \\, \\mathit{EI}}, d_{2} = \\frac{L^{2} p}{12 \\, \\mathit{EI}}, d_{3} = 0, d_{4} = 0\\right]\\)</html>"
      ],
      "text/latex": [
       "$\\displaystyle \\left[d_{1} = -\\frac{L p}{2 \\, \\mathit{EI}}, d_{2} = \\frac{L^{2} p}{12 \\, \\mathit{EI}}, d_{3} = 0, d_{4} = 0\\right]$"
      ],
      "text/plain": [
       "[d1 == -1/2*L*p/EI, d2 == 1/12*L^2*p/EI, d3 == 0, d4 == 0]"
      ]
     },
     "execution_count": 30,
     "metadata": {
     },
     "output_type": "execute_result"
    }
   ],
   "source": [
    "sol=solve([eq1lhs==0, eq2lhs==0, eq3lhs==0, eq4lhs==0], d1, d2, d3, d4)\n",
    "show(sol[0])"
   ]
  },
  {
   "cell_type": "code",
   "execution_count": 31,
   "metadata": {
    "collapsed": false
   },
   "outputs": [
    {
     "data": {
      "text/html": [
       "<html>\\(\\displaystyle \\frac{L^{2} p x^{2}}{24 \\, \\mathit{EI}} - \\frac{L p x^{3}}{12 \\, \\mathit{EI}} + \\frac{p x^{4}}{24 \\, \\mathit{EI}}\\)</html>"
      ],
      "text/latex": [
       "$\\displaystyle \\frac{L^{2} p x^{2}}{24 \\, \\mathit{EI}} - \\frac{L p x^{3}}{12 \\, \\mathit{EI}} + \\frac{p x^{4}}{24 \\, \\mathit{EI}}$"
      ],
      "text/plain": [
       "1/24*L^2*p*x^2/EI - 1/12*L*p*x^3/EI + 1/24*p*x^4/EI"
      ]
     },
     "execution_count": 31,
     "metadata": {
     },
     "output_type": "execute_result"
    }
   ],
   "source": [
    "w_analytical = junk4.subs(d1=sol[0][0].rhs(), d2=sol[0][1].rhs(), \\\n",
    " d3=sol[0][2].rhs(), d4=sol[0][3].rhs() )\n",
    "\n",
    "show(w_analytical)"
   ]
  },
  {
   "cell_type": "code",
   "execution_count": 32,
   "metadata": {
    "collapsed": false
   },
   "outputs": [
   ],
   "source": [
    "var('c1, c2, c3')\n",
    "w_fem = c1*x^2+c2*x^3+c3*x^4 \n",
    "\n",
    "eqn1lhs = integrate(EI*diff(w_fem, x, 2)*diff(x^2, x, 2), (x, 0, L))\n",
    "eqn1rhs = integrate(p*x^2, (x, 0, L))\n",
    "eq1 = eqn1lhs==eqn1rhs \n",
    "\n",
    "eqn2lhs = integrate(EI*diff(w_fem, x, 2)*diff(x^3, x, 2), (x, 0, L))\n",
    "eqn2rhs = integrate(p*x^3, (x, 0, L))\n",
    "eq2 = eqn2lhs==eqn2rhs\n",
    "\n",
    "eqn3lhs = integrate(EI*diff(w_fem, x, 2)*diff(x^4, x, 2), (x, 0, L))\n",
    "eqn3rhs = integrate(p*x^4, (x, 0, L))\n",
    "eq3 = eqn3lhs==eqn3rhs"
   ]
  },
  {
   "cell_type": "code",
   "execution_count": 33,
   "metadata": {
    "collapsed": false
   },
   "outputs": [
   ],
   "source": [
    "sol_fem = solve([eq1, eq2, eq3], c1, c2, c3)"
   ]
  },
  {
   "cell_type": "code",
   "execution_count": 34,
   "metadata": {
    "collapsed": false
   },
   "outputs": [
   ],
   "source": [
    "w_fem_ans = w_fem.subs(c1=sol_fem[0][0].rhs(), c2=sol_fem[0][1].rhs(), c3=sol_fem[0][2].rhs())"
   ]
  },
  {
   "cell_type": "code",
   "execution_count": 0,
   "metadata": {
    "collapsed": false
   },
   "outputs": [
   ],
   "source": [
   ]
  },
  {
   "cell_type": "code",
   "execution_count": 35,
   "metadata": {
    "collapsed": false
   },
   "outputs": [
    {
     "data": {
      "text/html": [
       "<html>\\(\\displaystyle \\frac{L^{2} p x^{2}}{4 \\, \\mathit{EI}} - \\frac{L p x^{3}}{6 \\, \\mathit{EI}} + \\frac{p x^{4}}{24 \\, \\mathit{EI}}\\)</html>"
      ],
      "text/latex": [
       "$\\displaystyle \\frac{L^{2} p x^{2}}{4 \\, \\mathit{EI}} - \\frac{L p x^{3}}{6 \\, \\mathit{EI}} + \\frac{p x^{4}}{24 \\, \\mathit{EI}}$"
      ],
      "text/plain": [
       "1/4*L^2*p*x^2/EI - 1/6*L*p*x^3/EI + 1/24*p*x^4/EI"
      ]
     },
     "execution_count": 35,
     "metadata": {
     },
     "output_type": "execute_result"
    }
   ],
   "source": [
    "show(w_fem_ans)"
   ]
  },
  {
   "cell_type": "code",
   "execution_count": 50,
   "metadata": {
    "collapsed": false
   },
   "outputs": [
    {
     "data": {
      "image/png": "[encoded data removed]",
      "text/plain": [
       "Graphics object consisting of 1 graphics primitive"
      ]
     },
     "execution_count": 50,
     "metadata": {
     },
     "output_type": "execute_result"
    }
   ],
   "source": [
    "plot(w)"
   ]
  }
 ],
 "metadata": {
  "kernelspec": {
   "argv": [
    "sage-10.2",
    "--python",
    "-m",
    "sage.repl.ipython_kernel",
    "--matplotlib=inline",
    "-f",
    "{connection_file}"
   ],
   "display_name": "SageMath 10.2",
   "env": {
   },
   "language": "sagemath",
   "metadata": {
    "cocalc": {
     "description": "Open-source mathematical software system",
     "priority": 2,
     "url": "https://www.sagemath.org/"
    }
   },
   "name": "sage-10.2",
   "resource_dir": "/ext/jupyter/kernels/sage-10.2"
  },
  "language_info": {
   "codemirror_mode": {
    "name": "ipython",
    "version": 3
   },
   "file_extension": ".py",
   "mimetype": "text/x-python",
   "name": "python",
   "nbconvert_exporter": "python",
   "pygments_lexer": "ipython3",
   "version": "3.11.1"
  }
 },
 "nbformat": 4,
 "nbformat_minor": 4
}