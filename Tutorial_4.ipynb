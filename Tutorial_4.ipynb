{
 "cells": [
  {
   "cell_type": "markdown",
   "metadata": {
    "collapsed": false,
    "hide_input": false
   },
   "source": [
    "# Tutorial 4: Linear Transformation\n",
    "\n",
    "## Example 1: Rotation in 2D\n",
    "\n",
    "Consider a linear transformation $R : \\mathbb{R}^2 \\rightarrow \\mathbb{R}^2$\n",
    "\n",
    "Given by $R(e_1) = \\cos (\\theta) e_1 + \\sin(\\theta) e_2$ \n",
    "and $R(e_2) = -\\sin (\\theta) e_1 + \\cos(\\theta) e_2$\n",
    "\n",
    "This matrix represents the rotation transformation\n"
   ]
  },
  {
   "cell_type": "code",
   "execution_count": 1,
   "metadata": {
    "collapsed": false,
    "hide_input": false
   },
   "outputs": [
    {
     "data": {
      "image/png": "[encoded data removed]",
      "text/plain": [
       "Graphics object consisting of 7 graphics primitives"
      ]
     },
     "execution_count": 1,
     "metadata": {
     },
     "output_type": "execute_result"
    }
   ],
   "source": [
    "theta = (pi.n())/6\n",
    "\n",
    "def rotate(v):\n",
    "    '''Rotate a given vector by theta'''\n",
    "    R = matrix([[cos(theta), -sin(theta)], [sin(theta), cos(theta)]])\n",
    "    return R*v \n",
    "\n",
    "v1 = vector([2, 1])\n",
    "w1 = rotate(v1)\n",
    "\n",
    "v2 = vector([2, 2])\n",
    "w2 = rotate(v2)\n",
    "\n",
    "v = v1+v2 \n",
    "w = w1+w2 \n",
    "wp = rotate(v)\n",
    "\n",
    "\n",
    "p1 = list_plot([(0, 0), (v1[0], v1[1])], plotjoined=True)\n",
    "p2 = list_plot([(0, 0), (w1[0], w1[1])], plotjoined=True, \n",
    "               linestyle='dashed')\n",
    "\n",
    "p3 = list_plot([(0, 0), (v2[0], v2[1])], plotjoined=True, \n",
    "               color='red')\n",
    "p4 = list_plot([(0, 0), (w2[0], w2[1])], plotjoined=True, \n",
    "               color='red', linestyle='dashed')\n",
    "\n",
    "p5 = list_plot([(0, 0), (v[0], v[1])], plotjoined=True, \n",
    "               color='black')\n",
    "p6 = list_plot([(0, 0), (w[0], w[1])], plotjoined=True, \n",
    "               color='green', linestyle='solid')\n",
    "p7 = list_plot([(0, 0), (wp[0], wp[1])], plotjoined=True, \n",
    "               color='black', linestyle='dashed')\n",
    "\n",
    "show(p1+p2+p3+p4+p5+p6+p7, figsize=4)"
   ]
  },
  {
   "cell_type": "markdown",
   "metadata": {
    "collapsed": false
   },
   "source": [
    "The above exercise proves that the rotation is a linear transformation"
   ]
  },
  {
   "cell_type": "markdown",
   "metadata": {
    "collapsed": false
   },
   "source": [
    "## Example 2: Projection\n",
    "\n",
    "Consider a linear transformation $R : \\mathbb{R}^2 \\rightarrow \\mathbb{R}$\n",
    "\n",
    "Given by $R(e_1) = e_1 $ and $R(e_2) = 0 $  "
   ]
  },
  {
   "cell_type": "code",
   "execution_count": 3,
   "metadata": {
    "collapsed": false,
    "hide_input": false
   },
   "outputs": [
    {
     "name": "stdout",
     "output_type": "stream",
     "text": [
      "Add the projected Vectors\n"
     ]
    },
    {
     "data": {
      "text/html": [
       "<html>\\(\\displaystyle 3\\)</html>"
      ],
      "text/latex": [
       "$\\displaystyle 3$"
      ],
      "text/plain": [
       "3"
      ]
     },
     "execution_count": 3,
     "metadata": {
     },
     "output_type": "execute_result"
    },
    {
     "name": "stdout",
     "output_type": "stream",
     "text": [
      "Project the added vectors\n"
     ]
    },
    {
     "data": {
      "text/html": [
       "<html>\\(\\displaystyle 3\\)</html>"
      ],
      "text/latex": [
       "$\\displaystyle 3$"
      ],
      "text/plain": [
       "3"
      ]
     },
     "execution_count": 3,
     "metadata": {
     },
     "output_type": "execute_result"
    }
   ],
   "source": [
    "def project(v):\n",
    "    return v[0]\n",
    "\n",
    "v1 = vector([1, 2])\n",
    "w1 = project(v1)\n",
    "\n",
    "v2 = vector([2, 1])\n",
    "w2 = project(v2)\n",
    "\n",
    "v = v1+v2 \n",
    "w = w1+w2 \n",
    "wp = project(v)\n",
    "\n",
    "print('Add the projected Vectors')\n",
    "show(w)\n",
    "print('Project the added vectors')\n",
    "show(wp)"
   ]
  },
  {
   "cell_type": "markdown",
   "metadata": {
    "collapsed": false
   },
   "source": [
    "## Example 3: Differentiation over quadratic polynomials \n",
    "\n",
    "Consider a linear transformation $D: \\mathbb{P}_2 \\rightarrow \\mathbb{P}_1$ such that \n",
    "$D(p) \\: \\forall \\: p \\: \\in \\: \\mathbb{P}_2 $ is the derivative of $p$"
   ]
  },
  {
   "cell_type": "code",
   "execution_count": 4,
   "metadata": {
    "collapsed": false
   },
   "outputs": [
    {
     "name": "stdout",
     "output_type": "stream",
     "text": [
      "Differentiate the Added Polynomial\n"
     ]
    },
    {
     "data": {
      "text/html": [
       "<html>\\(\\displaystyle 2 \\, x + 5\\)</html>"
      ],
      "text/latex": [
       "$\\displaystyle 2 \\, x + 5$"
      ],
      "text/plain": [
       "2*x + 5"
      ]
     },
     "execution_count": 4,
     "metadata": {
     },
     "output_type": "execute_result"
    },
    {
     "name": "stdout",
     "output_type": "stream",
     "text": [
      "Add the differentiated polynomial\n"
     ]
    },
    {
     "data": {
      "text/html": [
       "<html>\\(\\displaystyle 2 \\, x + 5\\)</html>"
      ],
      "text/latex": [
       "$\\displaystyle 2 \\, x + 5$"
      ],
      "text/plain": [
       "2*x + 5"
      ]
     },
     "execution_count": 4,
     "metadata": {
     },
     "output_type": "execute_result"
    }
   ],
   "source": [
    "poly_1(x) = 2 + 3*x - 4*(x^2)\n",
    "\n",
    "Dpoly_1(x) = diff(poly_1(x), x)\n",
    "\n",
    "poly_2(x) = -4+2*x+5*x^2\n",
    "\n",
    "Dpoly_2(x) = diff(poly_2(x), x)\n",
    "\n",
    "poly(x) = poly_1(x)+poly_2(x)\n",
    "\n",
    "Dpoly(x) = diff(poly(x), x)\n",
    "\n",
    "print('Differentiate the Added Polynomial')\n",
    "show(Dpoly(x))\n",
    "\n",
    "print('Add the differentiated polynomial')\n",
    "show(Dpoly_1(x)+Dpoly_2(x))\n"
   ]
  },
  {
   "cell_type": "markdown",
   "metadata": {
    "collapsed": false
   },
   "source": [
    "## Matrix representation of the above linear transformation\n",
    "\n",
    "Consider the basis of $\\mathbb{P}_2$ to be $ \\{ 1, x, x^2 \\} $\n",
    "\n",
    "Consider the basis of $\\mathbb{P}_1$ to be $ \\{ 1, x \\} $\n",
    "\n",
    "With the above basis the matrix representation of the above linear transformation is \n",
    "\n",
    "$ D \\equiv\n",
    "\\left[ \n",
    "\\begin{array}{ccc}    \n",
    "0 & 1 & 0 \\\\\n",
    "0 & 0 & 2\n",
    "\\end{array}\n",
    "\\right]\n",
    "$\n",
    "\n",
    "Consider $p_1 (x) = 2 +3x -4x^2 $\n",
    "Using the above basis this polynomial is represented by the following vector in $\\mathbb{R}^3$\n",
    "\n",
    "$\n",
    "\\left\\{ \n",
    "\\begin{array}{c}\n",
    "2 \\\\\n",
    "3 \\\\\n",
    "-4 \n",
    "\\end{array}\n",
    "\\right\\} \n",
    "$\n",
    "\n",
    "We perform the matrix multiplication as a matrix vector multiplication "
   ]
  },
  {
   "cell_type": "code",
   "execution_count": 5,
   "metadata": {
    "collapsed": false
   },
   "outputs": [
    {
     "data": {
      "text/html": [
       "<html>\\(\\displaystyle \\left(3,\\,-8\\right)\\)</html>"
      ],
      "text/latex": [
       "$\\displaystyle \\left(3,\\,-8\\right)$"
      ],
      "text/plain": [
       "(3, -8)"
      ]
     },
     "execution_count": 5,
     "metadata": {
     },
     "output_type": "execute_result"
    },
    {
     "data": {
      "text/html": [
       "<html>\\(\\displaystyle -8 \\, x + 3\\)</html>"
      ],
      "text/latex": [
       "$\\displaystyle -8 \\, x + 3$"
      ],
      "text/plain": [
       "-8*x + 3"
      ]
     },
     "execution_count": 5,
     "metadata": {
     },
     "output_type": "execute_result"
    }
   ],
   "source": [
    "D = matrix([[0, 1, 0], [0, 0, 2]])\n",
    "v_poly = vector([2, 3, -4])\n",
    "\n",
    "show(D*v_poly)\n",
    "show(Dpoly_1(x))"
   ]
  },
  {
   "cell_type": "markdown",
   "metadata": {
    "collapsed": false
   },
   "source": [
    "Thus it is proved that the differentiation as a linear transformation can be achieved as a matrix vector multiplication"
   ]
  }
 ],
 "metadata": {
  "kernelspec": {
   "argv": [
    "sage-10.2",
    "--python",
    "-m",
    "sage.repl.ipython_kernel",
    "--matplotlib=inline",
    "-f",
    "{connection_file}"
   ],
   "display_name": "SageMath 10.2",
   "env": {
   },
   "language": "sagemath",
   "metadata": {
    "cocalc": {
     "description": "Open-source mathematical software system",
     "priority": 2,
     "url": "https://www.sagemath.org/"
    }
   },
   "name": "sage-10.2",
   "resource_dir": "/ext/jupyter/kernels/sage-10.2"
  },
  "language_info": {
   "codemirror_mode": {
    "name": "ipython",
    "version": 3
   },
   "file_extension": ".py",
   "mimetype": "text/x-python",
   "name": "python",
   "nbconvert_exporter": "python",
   "pygments_lexer": "ipython3",
   "version": "3.9.18"
  },
  "varInspector": {
   "cols": {
    "lenName": 16,
    "lenType": 16,
    "lenVar": 40
   },
   "kernels_config": {
    "python": {
     "delete_cmd_postfix": "",
     "delete_cmd_prefix": "del ",
     "library": "var_list.py",
     "varRefreshCmd": "print(var_dic_list())"
    },
    "r": {
     "delete_cmd_postfix": ") ",
     "delete_cmd_prefix": "rm(",
     "library": "var_list.r",
     "varRefreshCmd": "cat(var_dic_list()) "
    }
   },
   "types_to_exclude": [
    "module",
    "function",
    "builtin_function_or_method",
    "instance",
    "_Feature"
   ],
   "window_display": false
  }
 },
 "nbformat": 4,
 "nbformat_minor": 4
}