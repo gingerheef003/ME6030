{
 "cells": [
  {
   "cell_type": "markdown",
   "id": "4e737051",
   "metadata": {},
   "source": [
    "# Linear Constant Coefficient ODEs\n",
    "\n",
    "Most systems in practice (linear vibration, electric circuit, etc.) are modeled as constant coefficient ordinary differential equation. In the following we shall use the state space method to convert an arbitrary constant coefficient differential equation into a first order form and then use matrix diagonalization to solve the equation. \n",
    "\n",
    "For the purpose of demonstration we take the following ODE\n",
    "\n",
    "$\\displaystyle \\frac{d^4 y}{d t^4} - 4 \\frac{d^3 y}{d t^3} - 7 \\frac{d^2 y}{d t^2} + 22 \\frac{d y}{d t} + 24 y = 0  $\n",
    "\n",
    "with initial conditions as $y(0) = 1, \\frac{d y}{dt} (0) = 1, \\frac{d^2 y}{d t^2} (0) = 1, \\frac{d^3 y}{d t^3} (0) = 1   $\n",
    "\n",
    "We recast the above equation in state-space form by defining the following state-variables \n",
    "\n",
    "$x_1 = y, \\: x_2 = \\dot{y}, \\: x_3 = \\ddot{y}, \\: x_4 = \\dddot{y} $\n",
    "\n",
    "The above ODE can thus be re-written as \n",
    "\n",
    "$ \\displaystyle\n",
    "\\left\\{\n",
    "\\begin{array}{c}  \n",
    "\\dot{x}_1 \\\\\n",
    "\\dot{x}_2 \\\\\n",
    "\\dot{x}_3 \\\\\n",
    "\\dot{x}_4 \\\\ \n",
    "\\end{array}\n",
    "\\right\\}\n",
    "= \\left[ \n",
    "\\begin{array}{cccc}\n",
    "0 & 1 & 0 & 0 \\\\\n",
    "0 & 0 & 1 & 0 \\\\\n",
    "0 & 0 & 0 & 1 \\\\\n",
    "-24 & -22 & 7 & 4 \\\\\n",
    "\\end{array}\n",
    "\\right] \n",
    "\\left\\{\n",
    "\\begin{array}{c}  \n",
    "x_1 \\\\\n",
    "x_2 \\\\\n",
    "x_3 \\\\\n",
    "x_4 \\\\ \n",
    "\\end{array}\n",
    "\\right\\}\n",
    "$\n",
    "\n",
    "Thus a linear constant coefficient 4th order ODE is recast into set of 4 coupled first order ODEs. \n",
    "\n",
    "In general a linear constant coefficient nth order ODE can be recast into set of n coupled first order ODEs as follows:- \n",
    "$\\{ \\dot{x} \\}  = [A] \\{ x \\} $\n",
    "\n",
    "The solution to the transformed problem can be easily accomplished by decoupling the equations. \n",
    "\n",
    "Let $[P]^{-1} [A] [P] = [D]$ be a diagonal matrix. $[A] = [P][D][P]^{-1}$. The same similarity transformation acting on the vector $\\{ x \\}$ will be $\\{ x \\} = [P] \\{ \\xi \\} $\n",
    "\n",
    "Thus, we look to solve $ [P] \\{ \\dot{\\xi} \\} = [P][D][P]^{-1} [P] \\{ \\xi \\} \\: \\implies \\{ \\dot{\\xi} \\} = [D] \\{ \\xi \\} $. "
   ]
  },
  {
   "cell_type": "code",
   "execution_count": 1,
   "id": "a6d05d87",
   "metadata": {},
   "outputs": [],
   "source": [
    "A = matrix([[0, 1, 0, 0], [0, 0, 1, 0], [0, 0, 0, 1], [-24, -22, 7, 4]])"
   ]
  },
  {
   "cell_type": "code",
   "execution_count": 2,
   "id": "3ee61637",
   "metadata": {},
   "outputs": [],
   "source": [
    "sol = A.eigenvectors_right()"
   ]
  },
  {
   "cell_type": "code",
   "execution_count": 3,
   "id": "58faf501",
   "metadata": {},
   "outputs": [
    {
     "data": {
      "text/html": [
       "<html>\\(\\displaystyle \\left(\\begin{array}{rrrr}\n",
       "1 & 1 & 1 & 1 \\\\\n",
       "4 & 3 & -1 & -2 \\\\\n",
       "16 & 9 & 1 & 4 \\\\\n",
       "64 & 27 & -1 & -8\n",
       "\\end{array}\\right)\\)</html>"
      ],
      "text/latex": [
       "$\\displaystyle \\left(\\begin{array}{rrrr}\n",
       "1 & 1 & 1 & 1 \\\\\n",
       "4 & 3 & -1 & -2 \\\\\n",
       "16 & 9 & 1 & 4 \\\\\n",
       "64 & 27 & -1 & -8\n",
       "\\end{array}\\right)$"
      ],
      "text/plain": [
       "[ 1  1  1  1]\n",
       "[ 4  3 -1 -2]\n",
       "[16  9  1  4]\n",
       "[64 27 -1 -8]"
      ]
     },
     "metadata": {},
     "output_type": "display_data"
    }
   ],
   "source": [
    "v1 = vector(sol[0][1][0]) \n",
    "v2 = vector(sol[1][1][0])\n",
    "v3 = vector(sol[2][1][0]) \n",
    "v4 = vector(sol[3][1][0])\n",
    "\n",
    "P1 = matrix(v1).transpose()\n",
    "P2 = matrix(v2).transpose()\n",
    "P3 = matrix(v3).transpose()\n",
    "P4 = matrix(v4).transpose()\n",
    "\n",
    "P = P1.augment(P2).augment(P3).augment(P4)\n",
    "show(P)"
   ]
  },
  {
   "cell_type": "markdown",
   "id": "9946b6e7",
   "metadata": {},
   "source": [
    "Verify that $[P]^{-1}[A][P]$ is a diagonal matrix of eigenvalues"
   ]
  },
  {
   "cell_type": "code",
   "execution_count": 4,
   "id": "792022ee",
   "metadata": {},
   "outputs": [
    {
     "data": {
      "text/html": [
       "<html>\\(\\displaystyle \\left(\\begin{array}{rrrr}\n",
       "4 & 0 & 0 & 0 \\\\\n",
       "0 & 3 & 0 & 0 \\\\\n",
       "0 & 0 & -1 & 0 \\\\\n",
       "0 & 0 & 0 & -2\n",
       "\\end{array}\\right)\\)</html>"
      ],
      "text/latex": [
       "$\\displaystyle \\left(\\begin{array}{rrrr}\n",
       "4 & 0 & 0 & 0 \\\\\n",
       "0 & 3 & 0 & 0 \\\\\n",
       "0 & 0 & -1 & 0 \\\\\n",
       "0 & 0 & 0 & -2\n",
       "\\end{array}\\right)$"
      ],
      "text/plain": [
       "[ 4  0  0  0]\n",
       "[ 0  3  0  0]\n",
       "[ 0  0 -1  0]\n",
       "[ 0  0  0 -2]"
      ]
     },
     "metadata": {},
     "output_type": "display_data"
    }
   ],
   "source": [
    "show(P.inverse()*A*P) "
   ]
  },
  {
   "cell_type": "markdown",
   "id": "7d1d1fdc",
   "metadata": {},
   "source": [
    "Thus, we have \n",
    "\n",
    "$\\xi_1 (t) = e^{4t} \\xi_1(0) $\n",
    "\n",
    "$\\xi_2 (t) = e^{3t} \\xi_2(0) $\n",
    "\n",
    "$\\xi_3 (t) = e^{-t} \\xi_3(0) $\n",
    "\n",
    "$\\xi_4 (t) = e^{-2t} \\xi_4(0) $\n",
    "\n",
    "as the solution in the transformed coordinates. We need to find the initial conditions in the transformed coordinates. \n",
    "\n",
    "$\\{ \\xi (0) \\} = [P]^{-1} \\{ x(0) \\}$\n"
   ]
  },
  {
   "cell_type": "code",
   "execution_count": 5,
   "id": "024f812f",
   "metadata": {},
   "outputs": [
    {
     "data": {
      "text/html": [
       "<html>\\(\\displaystyle \\left(-\\frac{2}{5},\\,\\frac{9}{10},\\,\\frac{9}{10},\\,-\\frac{2}{5}\\right)\\)</html>"
      ],
      "text/latex": [
       "$\\displaystyle \\left(-\\frac{2}{5},\\,\\frac{9}{10},\\,\\frac{9}{10},\\,-\\frac{2}{5}\\right)$"
      ],
      "text/plain": [
       "(-2/5, 9/10, 9/10, -2/5)"
      ]
     },
     "metadata": {},
     "output_type": "display_data"
    }
   ],
   "source": [
    "ic_x = vector([1, 1, 1, 1])\n",
    "ic_xi = P.inverse()*ic_x\n",
    "show(ic_xi)"
   ]
  },
  {
   "cell_type": "markdown",
   "id": "46936de4",
   "metadata": {},
   "source": [
    "Thus we have the solution in the transformed corodinate as \n",
    "\n",
    "$\\xi_1 (t) = -\\frac{2}{5} e^{4t}  $\n",
    "\n",
    "$\\xi_2 (t) = \\frac{9}{10} e^{3t} $\n",
    "\n",
    "$\\xi_3 (t) = \\frac{9}{10} e^{-t} $\n",
    "\n",
    "$\\xi_4 (t) = -\\frac{2}{5} e^{-2t} $\n",
    "\n",
    "Finally we transform the solution back to the state variables "
   ]
  },
  {
   "cell_type": "code",
   "execution_count": 6,
   "id": "b3445517",
   "metadata": {},
   "outputs": [
    {
     "data": {
      "text/html": [
       "<html>\\(\\displaystyle -\\frac{2}{5} \\, e^{\\left(4 \\, t\\right)} + \\frac{9}{10} \\, e^{\\left(3 \\, t\\right)} + \\frac{9}{10} \\, e^{\\left(-t\\right)} - \\frac{2}{5} \\, e^{\\left(-2 \\, t\\right)}\\)</html>"
      ],
      "text/latex": [
       "$\\displaystyle -\\frac{2}{5} \\, e^{\\left(4 \\, t\\right)} + \\frac{9}{10} \\, e^{\\left(3 \\, t\\right)} + \\frac{9}{10} \\, e^{\\left(-t\\right)} - \\frac{2}{5} \\, e^{\\left(-2 \\, t\\right)}$"
      ],
      "text/plain": [
       "-2/5*e^(4*t) + 9/10*e^(3*t) + 9/10*e^(-t) - 2/5*e^(-2*t)"
      ]
     },
     "metadata": {},
     "output_type": "display_data"
    }
   ],
   "source": [
    "var('t')\n",
    "transform_sol = vector([-(2/5)*exp(4*t), (9/10)*exp(3*t), (9/10)*exp(-t), -(2/5)*exp(-2*t) ])\n",
    "soln = P*transform_sol\n",
    "show(soln[0])"
   ]
  },
  {
   "cell_type": "markdown",
   "id": "79b8851b",
   "metadata": {},
   "source": [
    "Lets compare this solution with the numerical ode solver "
   ]
  },
  {
   "cell_type": "code",
   "execution_count": 7,
   "id": "f21964d3",
   "metadata": {},
   "outputs": [],
   "source": [
    "y = function('y')(t)\n",
    "deqn = diff(y, t, 4)-4*diff(y, t, 3)-7*diff(y, t, 2)+22*diff(y, t)+24*y"
   ]
  },
  {
   "cell_type": "code",
   "execution_count": 8,
   "id": "e2bf23e3",
   "metadata": {},
   "outputs": [
    {
     "data": {
      "text/html": [
       "<html>\\(\\displaystyle 24 \\, y\\left(t\\right) + 22 \\, \\frac{\\partial}{\\partial t}y\\left(t\\right) - 7 \\, \\frac{\\partial^{2}}{(\\partial t)^{2}}y\\left(t\\right) - 4 \\, \\frac{\\partial^{3}}{(\\partial t)^{3}}y\\left(t\\right) + \\frac{\\partial^{4}}{(\\partial t)^{4}}y\\left(t\\right)\\)</html>"
      ],
      "text/latex": [
       "$\\displaystyle 24 \\, y\\left(t\\right) + 22 \\, \\frac{\\partial}{\\partial t}y\\left(t\\right) - 7 \\, \\frac{\\partial^{2}}{(\\partial t)^{2}}y\\left(t\\right) - 4 \\, \\frac{\\partial^{3}}{(\\partial t)^{3}}y\\left(t\\right) + \\frac{\\partial^{4}}{(\\partial t)^{4}}y\\left(t\\right)$"
      ],
      "text/plain": [
       "24*y(t) + 22*diff(y(t), t) - 7*diff(y(t), t, t) - 4*diff(y(t), t, t, t) + diff(y(t), t, t, t, t)"
      ]
     },
     "metadata": {},
     "output_type": "display_data"
    }
   ],
   "source": [
    "show(deqn)"
   ]
  },
  {
   "cell_type": "code",
   "execution_count": 9,
   "id": "405db3f4",
   "metadata": {},
   "outputs": [],
   "source": [
    "from sage.calculus.desolvers import desolve_odeint\n",
    "\n",
    "x1, x2, x3, x4 = var('x1, x2, x3, x4')\n",
    "\n",
    "f = [x2, x3, x4, -24*x1-22*x2+7*x3+4*x4] \n",
    "\n",
    "tvals = srange(0, 1.0, 0.01)\n",
    "\n",
    "num_sol = desolve_odeint(f, [1, 1, 1, 1], tvals , [x1, x2, x3, x4] )"
   ]
  },
  {
   "cell_type": "code",
   "execution_count": 10,
   "id": "cab6c99e",
   "metadata": {},
   "outputs": [
    {
     "data": {
      "image/png": "[encoded data removed]",
      "text/plain": [
       "Graphics object consisting of 2 graphics primitives"
      ]
     },
     "metadata": {},
     "output_type": "display_data"
    }
   ],
   "source": [
    "ynum = num_sol[:, 0]\n",
    "\n",
    "pnum = line(zip(tvals, ynum))\n",
    "\n",
    "yanal = soln[0]\n",
    "\n",
    "panal = plot(yanal, (t, 0, 1), color='red', linestyle='dashed')\n",
    "\n",
    "show(pnum+panal)"
   ]
  },
  {
   "cell_type": "code",
   "execution_count": 11,
   "id": "2deac909",
   "metadata": {},
   "outputs": [],
   "source": [
    "x1 = function('x1')(t)\n",
    "x2 = function('x2')(t)\n",
    "x3 = function('x3')(t)\n",
    "x4 = function('x4')(t)\n",
    "\n",
    "de1 = diff(x1, t) == x2\n",
    "de2 = diff(x2, t) == x3 \n",
    "de3 = diff(x3, t) == x4\n",
    "de4 = diff(x4, t) == -24*x1-22*x2+7*x3+4*x4\n",
    "\n",
    "sol_system = desolve_system([de1, de2, de3, de4], [x1, x2, x3, x4], ics=[0, 1, 1, 1, 1])"
   ]
  },
  {
   "cell_type": "code",
   "execution_count": 24,
   "id": "afcb36d5",
   "metadata": {
    "editable": true,
    "slideshow": {
     "slide_type": ""
    },
    "tags": []
   },
   "outputs": [
    {
     "data": {
      "image/png": "[encoded data removed]",
      "text/plain": [
       "Graphics object consisting of 2 graphics primitives"
      ]
     },
     "metadata": {},
     "output_type": "display_data"
    }
   ],
   "source": [
    "p_inbuilt = plot(sol_system[0].rhs(), (t, 0, 1), color='green', marker='d', markersize=1, linestyle='None') \n",
    "show(p_inbuilt+panal)"
   ]
  },
  {
   "cell_type": "code",
   "execution_count": 25,
   "id": "33ba9d87-d8e2-4d8d-b50b-2641f8e384ee",
   "metadata": {},
   "outputs": [],
   "source": [
    "At = A*t\n",
    "Atexp = At.exp()\n",
    "sol_exp = Atexp[0][0] + Atexp[0][1] + Atexp[0][2] + Atexp[0][3]"
   ]
  },
  {
   "cell_type": "code",
   "execution_count": 27,
   "id": "5f058a8b-e45d-4fb3-9456-675a02938d74",
   "metadata": {},
   "outputs": [
    {
     "data": {
      "image/png": "[encoded data removed]",
      "text/plain": [
       "Graphics object consisting of 2 graphics primitives"
      ]
     },
     "metadata": {},
     "output_type": "display_data"
    }
   ],
   "source": [
    "p_exp = plot(sol_exp, (t,0,1), color='blue')\n",
    "show(p_exp+panal)"
   ]
  }
 ],
 "metadata": {
  "kernelspec": {
   "display_name": "SageMath 10.3",
   "language": "sage",
   "name": "sagemath"
  },
  "language_info": {
   "codemirror_mode": {
    "name": "ipython",
    "version": 3
   },
   "file_extension": ".py",
   "mimetype": "text/x-python",
   "name": "python",
   "nbconvert_exporter": "python",
   "pygments_lexer": "ipython3",
   "version": "3.11.8"
  },
  "varInspector": {
   "cols": {
    "lenName": 16,
    "lenType": 16,
    "lenVar": 40
   },
   "kernels_config": {
    "python": {
     "delete_cmd_postfix": "",
     "delete_cmd_prefix": "del ",
     "library": "var_list.py",
     "varRefreshCmd": "print(var_dic_list())"
    },
    "r": {
     "delete_cmd_postfix": ") ",
     "delete_cmd_prefix": "rm(",
     "library": "var_list.r",
     "varRefreshCmd": "cat(var_dic_list()) "
    }
   },
   "types_to_exclude": [
    "module",
    "function",
    "builtin_function_or_method",
    "instance",
    "_Feature"
   ],
   "window_display": false
  }
 },
 "nbformat": 4,
 "nbformat_minor": 5
}
