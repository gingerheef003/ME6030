{
 "cells": [
  {
   "cell_type": "markdown",
   "metadata": {
    "collapsed": false
   },
   "source": [
    "In this notebook we demonstrate the calculations related to the four fundamental subspaces "
   ]
  },
  {
   "cell_type": "code",
   "execution_count": 1,
   "metadata": {
    "collapsed": false
   },
   "outputs": [
    {
     "data": {
      "text/html": [
       "<html>\\(\\displaystyle \\left(\\begin{array}{rrrrr}\n",
       "1 & 2 & 2 & 9 & -1 \\\\\n",
       "1 & 2 & 3 & 13 & -2 \\\\\n",
       "-1 & -2 & -1 & -5 & 1 \\\\\n",
       "1 & 2 & 0 & 1 & 2\n",
       "\\end{array}\\right)\\)</html>"
      ],
      "text/latex": [
       "$\\displaystyle \\left(\\begin{array}{rrrrr}\n",
       "1 & 2 & 2 & 9 & -1 \\\\\n",
       "1 & 2 & 3 & 13 & -2 \\\\\n",
       "-1 & -2 & -1 & -5 & 1 \\\\\n",
       "1 & 2 & 0 & 1 & 2\n",
       "\\end{array}\\right)$"
      ],
      "text/plain": [
       "[ 1  2  2  9 -1]\n",
       "[ 1  2  3 13 -2]\n",
       "[-1 -2 -1 -5  1]\n",
       "[ 1  2  0  1  2]"
      ]
     },
     "execution_count": 1,
     "metadata": {
     },
     "output_type": "execute_result"
    }
   ],
   "source": [
    "import numpy as np\n",
    "\n",
    "A = matrix([[1, 2, 2, 9, -1], \n",
    "            [1, 2, 3, 13, -2], \n",
    "            [-1, -2, -1, -5, 1], \n",
    "            [1, 2, 0, 1, 2]])\n",
    "\n",
    "show(A)"
   ]
  },
  {
   "cell_type": "markdown",
   "metadata": {
    "collapsed": false
   },
   "source": [
    "The above matrix $A \\: \\in \\: \\mathbb{R}^{4X5}$ is selected for this demonstration. \n",
    "\n",
    "This matrix is also featured in the NPTEL video of Prof Vittal Rao"
   ]
  },
  {
   "cell_type": "code",
   "execution_count": 2,
   "metadata": {
    "collapsed": false
   },
   "outputs": [
    {
     "data": {
      "text/html": [
       "<html>\\(\\displaystyle \\left(\\begin{array}{rrrrr}\n",
       "1 & 2 & 2 & 9 & -1 \\\\\n",
       "0 & 0 & 1 & 4 & -1 \\\\\n",
       "-1 & -2 & -1 & -5 & 1 \\\\\n",
       "1 & 2 & 0 & 1 & 2\n",
       "\\end{array}\\right)\\)</html>"
      ],
      "text/latex": [
       "$\\displaystyle \\left(\\begin{array}{rrrrr}\n",
       "1 & 2 & 2 & 9 & -1 \\\\\n",
       "0 & 0 & 1 & 4 & -1 \\\\\n",
       "-1 & -2 & -1 & -5 & 1 \\\\\n",
       "1 & 2 & 0 & 1 & 2\n",
       "\\end{array}\\right)$"
      ],
      "text/plain": [
       "[ 1  2  2  9 -1]\n",
       "[ 0  0  1  4 -1]\n",
       "[-1 -2 -1 -5  1]\n",
       "[ 1  2  0  1  2]"
      ]
     },
     "execution_count": 2,
     "metadata": {
     },
     "output_type": "execute_result"
    }
   ],
   "source": [
    "A.add_multiple_of_row(1, 0, -1) \n",
    "show(A)"
   ]
  },
  {
   "cell_type": "code",
   "execution_count": 3,
   "metadata": {
    "collapsed": false
   },
   "outputs": [
    {
     "data": {
      "text/html": [
       "<html>\\(\\displaystyle \\left(\\begin{array}{rrrrr}\n",
       "1 & 2 & 2 & 9 & -1 \\\\\n",
       "0 & 0 & 1 & 4 & -1 \\\\\n",
       "0 & 0 & 1 & 4 & 0 \\\\\n",
       "1 & 2 & 0 & 1 & 2\n",
       "\\end{array}\\right)\\)</html>"
      ],
      "text/latex": [
       "$\\displaystyle \\left(\\begin{array}{rrrrr}\n",
       "1 & 2 & 2 & 9 & -1 \\\\\n",
       "0 & 0 & 1 & 4 & -1 \\\\\n",
       "0 & 0 & 1 & 4 & 0 \\\\\n",
       "1 & 2 & 0 & 1 & 2\n",
       "\\end{array}\\right)$"
      ],
      "text/plain": [
       "[ 1  2  2  9 -1]\n",
       "[ 0  0  1  4 -1]\n",
       "[ 0  0  1  4  0]\n",
       "[ 1  2  0  1  2]"
      ]
     },
     "execution_count": 3,
     "metadata": {
     },
     "output_type": "execute_result"
    }
   ],
   "source": [
    "A.add_multiple_of_row(2, 0, 1)\n",
    "show(A)"
   ]
  },
  {
   "cell_type": "code",
   "execution_count": 4,
   "metadata": {
    "collapsed": false
   },
   "outputs": [
    {
     "data": {
      "text/html": [
       "<html>\\(\\displaystyle \\left(\\begin{array}{rrrrr}\n",
       "1 & 2 & 2 & 9 & -1 \\\\\n",
       "0 & 0 & 1 & 4 & -1 \\\\\n",
       "0 & 0 & 1 & 4 & 0 \\\\\n",
       "0 & 0 & -2 & -8 & 3\n",
       "\\end{array}\\right)\\)</html>"
      ],
      "text/latex": [
       "$\\displaystyle \\left(\\begin{array}{rrrrr}\n",
       "1 & 2 & 2 & 9 & -1 \\\\\n",
       "0 & 0 & 1 & 4 & -1 \\\\\n",
       "0 & 0 & 1 & 4 & 0 \\\\\n",
       "0 & 0 & -2 & -8 & 3\n",
       "\\end{array}\\right)$"
      ],
      "text/plain": [
       "[ 1  2  2  9 -1]\n",
       "[ 0  0  1  4 -1]\n",
       "[ 0  0  1  4  0]\n",
       "[ 0  0 -2 -8  3]"
      ]
     },
     "execution_count": 4,
     "metadata": {
     },
     "output_type": "execute_result"
    }
   ],
   "source": [
    "A.add_multiple_of_row(3, 0, -1)\n",
    "show(A)"
   ]
  },
  {
   "cell_type": "markdown",
   "metadata": {
    "collapsed": false
   },
   "source": [
    "At this stage we have cleaned up the first two columns as required"
   ]
  },
  {
   "cell_type": "code",
   "execution_count": 5,
   "metadata": {
    "collapsed": false
   },
   "outputs": [
    {
     "data": {
      "text/html": [
       "<html>\\(\\displaystyle \\left(\\begin{array}{rrrrr}\n",
       "1 & 2 & 2 & 9 & -1 \\\\\n",
       "0 & 0 & 1 & 4 & -1 \\\\\n",
       "0 & 0 & 0 & 0 & 1 \\\\\n",
       "0 & 0 & -2 & -8 & 3\n",
       "\\end{array}\\right)\\)</html>"
      ],
      "text/latex": [
       "$\\displaystyle \\left(\\begin{array}{rrrrr}\n",
       "1 & 2 & 2 & 9 & -1 \\\\\n",
       "0 & 0 & 1 & 4 & -1 \\\\\n",
       "0 & 0 & 0 & 0 & 1 \\\\\n",
       "0 & 0 & -2 & -8 & 3\n",
       "\\end{array}\\right)$"
      ],
      "text/plain": [
       "[ 1  2  2  9 -1]\n",
       "[ 0  0  1  4 -1]\n",
       "[ 0  0  0  0  1]\n",
       "[ 0  0 -2 -8  3]"
      ]
     },
     "execution_count": 5,
     "metadata": {
     },
     "output_type": "execute_result"
    }
   ],
   "source": [
    "A.add_multiple_of_row(2, 1, -1)\n",
    "show(A)"
   ]
  },
  {
   "cell_type": "code",
   "execution_count": 6,
   "metadata": {
    "collapsed": false
   },
   "outputs": [
    {
     "data": {
      "text/html": [
       "<html>\\(\\displaystyle \\left(\\begin{array}{rrrrr}\n",
       "1 & 2 & 2 & 9 & -1 \\\\\n",
       "0 & 0 & 1 & 4 & -1 \\\\\n",
       "0 & 0 & 0 & 0 & 1 \\\\\n",
       "0 & 0 & 0 & 0 & 1\n",
       "\\end{array}\\right)\\)</html>"
      ],
      "text/latex": [
       "$\\displaystyle \\left(\\begin{array}{rrrrr}\n",
       "1 & 2 & 2 & 9 & -1 \\\\\n",
       "0 & 0 & 1 & 4 & -1 \\\\\n",
       "0 & 0 & 0 & 0 & 1 \\\\\n",
       "0 & 0 & 0 & 0 & 1\n",
       "\\end{array}\\right)$"
      ],
      "text/plain": [
       "[ 1  2  2  9 -1]\n",
       "[ 0  0  1  4 -1]\n",
       "[ 0  0  0  0  1]\n",
       "[ 0  0  0  0  1]"
      ]
     },
     "execution_count": 6,
     "metadata": {
     },
     "output_type": "execute_result"
    }
   ],
   "source": [
    "A.add_multiple_of_row(3, 1, 2)\n",
    "show(A)"
   ]
  },
  {
   "cell_type": "code",
   "execution_count": 7,
   "metadata": {
    "collapsed": false
   },
   "outputs": [
    {
     "data": {
      "text/html": [
       "<html>\\(\\displaystyle \\left(\\begin{array}{rrrrr}\n",
       "1 & 2 & 0 & 1 & 1 \\\\\n",
       "0 & 0 & 1 & 4 & -1 \\\\\n",
       "0 & 0 & 0 & 0 & 1 \\\\\n",
       "0 & 0 & 0 & 0 & 1\n",
       "\\end{array}\\right)\\)</html>"
      ],
      "text/latex": [
       "$\\displaystyle \\left(\\begin{array}{rrrrr}\n",
       "1 & 2 & 0 & 1 & 1 \\\\\n",
       "0 & 0 & 1 & 4 & -1 \\\\\n",
       "0 & 0 & 0 & 0 & 1 \\\\\n",
       "0 & 0 & 0 & 0 & 1\n",
       "\\end{array}\\right)$"
      ],
      "text/plain": [
       "[ 1  2  0  1  1]\n",
       "[ 0  0  1  4 -1]\n",
       "[ 0  0  0  0  1]\n",
       "[ 0  0  0  0  1]"
      ]
     },
     "execution_count": 7,
     "metadata": {
     },
     "output_type": "execute_result"
    }
   ],
   "source": [
    "A.add_multiple_of_row(0, 1, -2)\n",
    "show(A)"
   ]
  },
  {
   "cell_type": "code",
   "execution_count": 8,
   "metadata": {
    "collapsed": false
   },
   "outputs": [
    {
     "data": {
      "text/html": [
       "<html>\\(\\displaystyle \\left(\\begin{array}{rrrrr}\n",
       "1 & 2 & 0 & 1 & 1 \\\\\n",
       "0 & 0 & 1 & 4 & -1 \\\\\n",
       "0 & 0 & 0 & 0 & 1 \\\\\n",
       "0 & 0 & 0 & 0 & 0\n",
       "\\end{array}\\right)\\)</html>"
      ],
      "text/latex": [
       "$\\displaystyle \\left(\\begin{array}{rrrrr}\n",
       "1 & 2 & 0 & 1 & 1 \\\\\n",
       "0 & 0 & 1 & 4 & -1 \\\\\n",
       "0 & 0 & 0 & 0 & 1 \\\\\n",
       "0 & 0 & 0 & 0 & 0\n",
       "\\end{array}\\right)$"
      ],
      "text/plain": [
       "[ 1  2  0  1  1]\n",
       "[ 0  0  1  4 -1]\n",
       "[ 0  0  0  0  1]\n",
       "[ 0  0  0  0  0]"
      ]
     },
     "execution_count": 8,
     "metadata": {
     },
     "output_type": "execute_result"
    }
   ],
   "source": [
    "A.add_multiple_of_row(3, 2, -1)\n",
    "show(A)"
   ]
  },
  {
   "cell_type": "code",
   "execution_count": 9,
   "metadata": {
    "collapsed": false
   },
   "outputs": [
    {
     "data": {
      "text/html": [
       "<html>\\(\\displaystyle \\left(\\begin{array}{rrrrr}\n",
       "1 & 2 & 0 & 1 & 1 \\\\\n",
       "0 & 0 & 1 & 4 & 0 \\\\\n",
       "0 & 0 & 0 & 0 & 1 \\\\\n",
       "0 & 0 & 0 & 0 & 0\n",
       "\\end{array}\\right)\\)</html>"
      ],
      "text/latex": [
       "$\\displaystyle \\left(\\begin{array}{rrrrr}\n",
       "1 & 2 & 0 & 1 & 1 \\\\\n",
       "0 & 0 & 1 & 4 & 0 \\\\\n",
       "0 & 0 & 0 & 0 & 1 \\\\\n",
       "0 & 0 & 0 & 0 & 0\n",
       "\\end{array}\\right)$"
      ],
      "text/plain": [
       "[1 2 0 1 1]\n",
       "[0 0 1 4 0]\n",
       "[0 0 0 0 1]\n",
       "[0 0 0 0 0]"
      ]
     },
     "execution_count": 9,
     "metadata": {
     },
     "output_type": "execute_result"
    }
   ],
   "source": [
    "A.add_multiple_of_row(1, 2, 1)\n",
    "show(A)"
   ]
  },
  {
   "cell_type": "code",
   "execution_count": 10,
   "metadata": {
    "collapsed": false
   },
   "outputs": [
    {
     "data": {
      "text/html": [
       "<html>\\(\\displaystyle \\left(\\begin{array}{rrrrr}\n",
       "1 & 2 & 0 & 1 & 0 \\\\\n",
       "0 & 0 & 1 & 4 & 0 \\\\\n",
       "0 & 0 & 0 & 0 & 1 \\\\\n",
       "0 & 0 & 0 & 0 & 0\n",
       "\\end{array}\\right)\\)</html>"
      ],
      "text/latex": [
       "$\\displaystyle \\left(\\begin{array}{rrrrr}\n",
       "1 & 2 & 0 & 1 & 0 \\\\\n",
       "0 & 0 & 1 & 4 & 0 \\\\\n",
       "0 & 0 & 0 & 0 & 1 \\\\\n",
       "0 & 0 & 0 & 0 & 0\n",
       "\\end{array}\\right)$"
      ],
      "text/plain": [
       "[1 2 0 1 0]\n",
       "[0 0 1 4 0]\n",
       "[0 0 0 0 1]\n",
       "[0 0 0 0 0]"
      ]
     },
     "execution_count": 10,
     "metadata": {
     },
     "output_type": "execute_result"
    }
   ],
   "source": [
    "A.add_multiple_of_row(0, 2, -1)\n",
    "show(A)"
   ]
  },
  {
   "cell_type": "markdown",
   "metadata": {
    "collapsed": false
   },
   "source": [
    "The above for is the row reduced echleon form of the matrix. There is also a direct command available in sagemath for obtaining the row reduced echleon form. I suggest do not use the command for calculation, use it only for verification. This will be important for your learning.  \n",
    "\n",
    "It is evident that the dimension of the row space is 3. A basis for the row space is \n",
    "given by \n",
    "\n",
    "(1, 2, 0, 1, 0), (0, 0, 1, 4, 0) and (0, 0, 0, 0, 1) \n",
    "\n",
    "For finding the nullspace note the above equations read as follows: - \n",
    "\n",
    "$ x_1 + 2 x_2 + x_4 = 0 $\n",
    "\n",
    "$ x_3 + 4 x_4 = 0 $\n",
    "\n",
    "$ x_5 = 0 $\n",
    "\n",
    "Alternatively, $x_2$ and $x_4$ (the non-pivot variables) can be chosen arbitrarily and the remaining variables viz. $x_1, x_3$ and $x_5$ (the pivot variables) are constrained by the above equations. \n",
    "\n",
    "Thus assuming $x_2 = \\alpha $ and $x_4 = \\beta$ we have \n",
    "\n",
    "$(-2 \\alpha -\\beta, \\alpha, -4 \\beta, \\beta, 0) = \\alpha(-2, 1, 0, 0, 0) + \\beta (-1, 0, -4, 1, 0)$\n",
    "\n",
    "Thus, the basis for the null space is given by \n",
    "\n",
    "(-2, 1, 0, 0, 0) and (-1, 0, -4, 1, 0)\n",
    "\n",
    "Note the five dimensional input space $\\mathbb{R}^5$ is decomposed into (i) a two dimensional null space and (ii) a three dimensional row space \n",
    "\n",
    "let us verify the orthogonality of the row space and the null space "
   ]
  },
  {
   "cell_type": "code",
   "execution_count": 11,
   "metadata": {
    "collapsed": false
   },
   "outputs": [
   ],
   "source": [
    "r1 = vector([1, 2, 0, 1, 0])\n",
    "\n",
    "r2 = vector([0, 0, 1, 4, 0])\n",
    "\n",
    "r3 = vector([0, 0, 0, 0, 1])\n",
    "\n",
    "# the above are the basis of the row space \n",
    "\n",
    "n1 = vector([-2, 1, 0, 0, 0])\n",
    "\n",
    "n2 = vector([-1, 0, -4, 1, 0])\n",
    "\n",
    "# the above are the basis for the null space"
   ]
  },
  {
   "cell_type": "code",
   "execution_count": 13,
   "metadata": {
    "collapsed": false
   },
   "outputs": [
    {
     "data": {
      "text/html": [
       "<html>\\(\\displaystyle 0\\)</html>"
      ],
      "text/latex": [
       "$\\displaystyle 0$"
      ],
      "text/plain": [
       "0"
      ]
     },
     "execution_count": 13,
     "metadata": {
     },
     "output_type": "execute_result"
    },
    {
     "data": {
      "text/html": [
       "<html>\\(\\displaystyle 0\\)</html>"
      ],
      "text/latex": [
       "$\\displaystyle 0$"
      ],
      "text/plain": [
       "0"
      ]
     },
     "execution_count": 13,
     "metadata": {
     },
     "output_type": "execute_result"
    },
    {
     "data": {
      "text/html": [
       "<html>\\(\\displaystyle 0\\)</html>"
      ],
      "text/latex": [
       "$\\displaystyle 0$"
      ],
      "text/plain": [
       "0"
      ]
     },
     "execution_count": 13,
     "metadata": {
     },
     "output_type": "execute_result"
    },
    {
     "data": {
      "text/html": [
       "<html>\\(\\displaystyle 0\\)</html>"
      ],
      "text/latex": [
       "$\\displaystyle 0$"
      ],
      "text/plain": [
       "0"
      ]
     },
     "execution_count": 13,
     "metadata": {
     },
     "output_type": "execute_result"
    },
    {
     "data": {
      "text/html": [
       "<html>\\(\\displaystyle 0\\)</html>"
      ],
      "text/latex": [
       "$\\displaystyle 0$"
      ],
      "text/plain": [
       "0"
      ]
     },
     "execution_count": 13,
     "metadata": {
     },
     "output_type": "execute_result"
    },
    {
     "data": {
      "text/html": [
       "<html>\\(\\displaystyle 0\\)</html>"
      ],
      "text/latex": [
       "$\\displaystyle 0$"
      ],
      "text/plain": [
       "0"
      ]
     },
     "execution_count": 13,
     "metadata": {
     },
     "output_type": "execute_result"
    }
   ],
   "source": [
    "show(r1.inner_product(n1))\n",
    "show(r2.inner_product(n1))\n",
    "show(r3.inner_product(n1))\n",
    "\n",
    "show(r1.inner_product(n2))\n",
    "show(r2.inner_product(n2))\n",
    "show(r3.inner_product(n2))"
   ]
  },
  {
   "cell_type": "markdown",
   "metadata": {
    "collapsed": false
   },
   "source": [
    "Thus we see that row space and null space are orthogonal complements of each other"
   ]
  },
  {
   "cell_type": "markdown",
   "metadata": {
    "collapsed": false
   },
   "source": [
    "## Homework\n",
    "\n",
    "Using the transpose of the matrix (or column operations available in Sagemath) perform the same decomposition in the 4 dimensional output space. In particular prove that column space is three dimensional, null space of transpose(A) is one dimensional and these two are orthogonal. "
   ]
  },
  {
   "cell_type": "code",
   "execution_count": 6,
   "metadata": {
    "collapsed": false
   },
   "outputs": [
    {
     "data": {
      "text/html": [
       "<html>\\(\\displaystyle \\left(\\begin{array}{rrrrr}\n",
       "1 & 2 & 2 & 9 & -1 \\\\\n",
       "1 & 2 & 3 & 13 & -2 \\\\\n",
       "-1 & -2 & -1 & -5 & 1 \\\\\n",
       "1 & 2 & 0 & 1 & 2\n",
       "\\end{array}\\right)\\)</html>"
      ],
      "text/latex": [
       "$\\displaystyle \\left(\\begin{array}{rrrrr}\n",
       "1 & 2 & 2 & 9 & -1 \\\\\n",
       "1 & 2 & 3 & 13 & -2 \\\\\n",
       "-1 & -2 & -1 & -5 & 1 \\\\\n",
       "1 & 2 & 0 & 1 & 2\n",
       "\\end{array}\\right)$"
      ],
      "text/plain": [
       "[ 1  2  2  9 -1]\n",
       "[ 1  2  3 13 -2]\n",
       "[-1 -2 -1 -5  1]\n",
       "[ 1  2  0  1  2]"
      ]
     },
     "execution_count": 6,
     "metadata": {
     },
     "output_type": "execute_result"
    }
   ],
   "source": [
    "A = matrix([[1, 2, 2, 9, -1], \n",
    "            [1, 2, 3, 13, -2], \n",
    "            [-1, -2, -1, -5, 1], \n",
    "            [1, 2, 0, 1, 2]])\n",
    "\n",
    "show(A)"
   ]
  },
  {
   "cell_type": "code",
   "execution_count": 7,
   "metadata": {
    "collapsed": false
   },
   "outputs": [
    {
     "data": {
      "text/html": [
       "<html>\\(\\displaystyle \\left(\\begin{array}{rrrr}\n",
       "1 & 1 & -1 & 1 \\\\\n",
       "2 & 2 & -2 & 2 \\\\\n",
       "2 & 3 & -1 & 0 \\\\\n",
       "9 & 13 & -5 & 1 \\\\\n",
       "-1 & -2 & 1 & 2\n",
       "\\end{array}\\right)\\)</html>"
      ],
      "text/latex": [
       "$\\displaystyle \\left(\\begin{array}{rrrr}\n",
       "1 & 1 & -1 & 1 \\\\\n",
       "2 & 2 & -2 & 2 \\\\\n",
       "2 & 3 & -1 & 0 \\\\\n",
       "9 & 13 & -5 & 1 \\\\\n",
       "-1 & -2 & 1 & 2\n",
       "\\end{array}\\right)$"
      ],
      "text/plain": [
       "[ 1  1 -1  1]\n",
       "[ 2  2 -2  2]\n",
       "[ 2  3 -1  0]\n",
       "[ 9 13 -5  1]\n",
       "[-1 -2  1  2]"
      ]
     },
     "execution_count": 7,
     "metadata": {
     },
     "output_type": "execute_result"
    }
   ],
   "source": [
    "A = A.T\n",
    "show(A)"
   ]
  },
  {
   "cell_type": "code",
   "execution_count": 8,
   "metadata": {
    "collapsed": false
   },
   "outputs": [
    {
     "data": {
      "text/html": [
       "<html>\\(\\displaystyle \\left(\\begin{array}{rrrr}\n",
       "1 & 1 & -1 & 1 \\\\\n",
       "0 & 0 & 0 & 0 \\\\\n",
       "0 & 1 & 1 & -2 \\\\\n",
       "0 & 4 & 4 & -8 \\\\\n",
       "0 & -1 & 0 & 3\n",
       "\\end{array}\\right)\\)</html>"
      ],
      "text/latex": [
       "$\\displaystyle \\left(\\begin{array}{rrrr}\n",
       "1 & 1 & -1 & 1 \\\\\n",
       "0 & 0 & 0 & 0 \\\\\n",
       "0 & 1 & 1 & -2 \\\\\n",
       "0 & 4 & 4 & -8 \\\\\n",
       "0 & -1 & 0 & 3\n",
       "\\end{array}\\right)$"
      ],
      "text/plain": [
       "[ 1  1 -1  1]\n",
       "[ 0  0  0  0]\n",
       "[ 0  1  1 -2]\n",
       "[ 0  4  4 -8]\n",
       "[ 0 -1  0  3]"
      ]
     },
     "execution_count": 8,
     "metadata": {
     },
     "output_type": "execute_result"
    }
   ],
   "source": [
    "A.add_multiple_of_row(1,0,-2)\n",
    "A.add_multiple_of_row(2,0,-2)\n",
    "A.add_multiple_of_row(3,0,-9)\n",
    "A.add_multiple_of_row(4,0,1)\n",
    "show(A)"
   ]
  },
  {
   "cell_type": "code",
   "execution_count": 9,
   "metadata": {
    "collapsed": false
   },
   "outputs": [
    {
     "data": {
      "text/html": [
       "<html>\\(\\displaystyle \\left(\\begin{array}{rrrr}\n",
       "1 & 0 & -2 & 3 \\\\\n",
       "0 & 0 & 0 & 0 \\\\\n",
       "0 & 1 & 1 & -2 \\\\\n",
       "0 & 0 & 0 & 0 \\\\\n",
       "0 & 0 & 1 & 1\n",
       "\\end{array}\\right)\\)</html>"
      ],
      "text/latex": [
       "$\\displaystyle \\left(\\begin{array}{rrrr}\n",
       "1 & 0 & -2 & 3 \\\\\n",
       "0 & 0 & 0 & 0 \\\\\n",
       "0 & 1 & 1 & -2 \\\\\n",
       "0 & 0 & 0 & 0 \\\\\n",
       "0 & 0 & 1 & 1\n",
       "\\end{array}\\right)$"
      ],
      "text/plain": [
       "[ 1  0 -2  3]\n",
       "[ 0  0  0  0]\n",
       "[ 0  1  1 -2]\n",
       "[ 0  0  0  0]\n",
       "[ 0  0  1  1]"
      ]
     },
     "execution_count": 9,
     "metadata": {
     },
     "output_type": "execute_result"
    }
   ],
   "source": [
    "A.add_multiple_of_row(3,2,-4)\n",
    "A.add_multiple_of_row(4,2,1)\n",
    "A.add_multiple_of_row(0,2,-1)\n",
    "show(A)"
   ]
  },
  {
   "cell_type": "code",
   "execution_count": 10,
   "metadata": {
    "collapsed": false
   },
   "outputs": [
    {
     "data": {
      "text/html": [
       "<html>\\(\\displaystyle \\left(\\begin{array}{rrrr}\n",
       "1 & 0 & 0 & 5 \\\\\n",
       "0 & 0 & 0 & 0 \\\\\n",
       "0 & 1 & 0 & -3 \\\\\n",
       "0 & 0 & 0 & 0 \\\\\n",
       "0 & 0 & 1 & 1\n",
       "\\end{array}\\right)\\)</html>"
      ],
      "text/latex": [
       "$\\displaystyle \\left(\\begin{array}{rrrr}\n",
       "1 & 0 & 0 & 5 \\\\\n",
       "0 & 0 & 0 & 0 \\\\\n",
       "0 & 1 & 0 & -3 \\\\\n",
       "0 & 0 & 0 & 0 \\\\\n",
       "0 & 0 & 1 & 1\n",
       "\\end{array}\\right)$"
      ],
      "text/plain": [
       "[ 1  0  0  5]\n",
       "[ 0  0  0  0]\n",
       "[ 0  1  0 -3]\n",
       "[ 0  0  0  0]\n",
       "[ 0  0  1  1]"
      ]
     },
     "execution_count": 10,
     "metadata": {
     },
     "output_type": "execute_result"
    }
   ],
   "source": [
    "A.add_multiple_of_row(2,4,-1)\n",
    "A.add_multiple_of_row(0,4,2)\n",
    "show(A)"
   ]
  },
  {
   "cell_type": "code",
   "execution_count": 11,
   "metadata": {
    "collapsed": false
   },
   "outputs": [
    {
     "data": {
      "text/html": [
       "<html>\\(\\displaystyle \\left(\\begin{array}{rrrr}\n",
       "1 & 0 & 0 & 5 \\\\\n",
       "0 & 1 & 0 & -3 \\\\\n",
       "0 & 0 & 1 & 1 \\\\\n",
       "0 & 0 & 0 & 0 \\\\\n",
       "0 & 0 & 0 & 0\n",
       "\\end{array}\\right)\\)</html>"
      ],
      "text/latex": [
       "$\\displaystyle \\left(\\begin{array}{rrrr}\n",
       "1 & 0 & 0 & 5 \\\\\n",
       "0 & 1 & 0 & -3 \\\\\n",
       "0 & 0 & 1 & 1 \\\\\n",
       "0 & 0 & 0 & 0 \\\\\n",
       "0 & 0 & 0 & 0\n",
       "\\end{array}\\right)$"
      ],
      "text/plain": [
       "[ 1  0  0  5]\n",
       "[ 0  1  0 -3]\n",
       "[ 0  0  1  1]\n",
       "[ 0  0  0  0]\n",
       "[ 0  0  0  0]"
      ]
     },
     "execution_count": 11,
     "metadata": {
     },
     "output_type": "execute_result"
    }
   ],
   "source": [
    "A.swap_rows(1,2)\n",
    "A.swap_rows(2,4)\n",
    "show(A)"
   ]
  },
  {
   "cell_type": "code",
   "execution_count": 0,
   "metadata": {
    "collapsed": false
   },
   "outputs": [
   ],
   "source": [
   ]
  }
 ],
 "metadata": {
  "kernelspec": {
   "argv": [
    "sage-10.2",
    "--python",
    "-m",
    "sage.repl.ipython_kernel",
    "--matplotlib=inline",
    "-f",
    "{connection_file}"
   ],
   "display_name": "SageMath 10.2",
   "env": {
   },
   "language": "sagemath",
   "metadata": {
    "cocalc": {
     "description": "Open-source mathematical software system",
     "priority": 2,
     "url": "https://www.sagemath.org/"
    }
   },
   "name": "sage-10.2",
   "resource_dir": "/ext/jupyter/kernels/sage-10.2"
  },
  "language_info": {
   "codemirror_mode": {
    "name": "ipython",
    "version": 3
   },
   "file_extension": ".py",
   "mimetype": "text/x-python",
   "name": "python",
   "nbconvert_exporter": "python",
   "pygments_lexer": "ipython3",
   "version": "3.11.1"
  },
  "varInspector": {
   "cols": {
    "lenName": 16,
    "lenType": 16,
    "lenVar": 40
   },
   "kernels_config": {
    "python": {
     "delete_cmd_postfix": "",
     "delete_cmd_prefix": "del ",
     "library": "var_list.py",
     "varRefreshCmd": "print(var_dic_list())"
    },
    "r": {
     "delete_cmd_postfix": ") ",
     "delete_cmd_prefix": "rm(",
     "library": "var_list.r",
     "varRefreshCmd": "cat(var_dic_list()) "
    }
   },
   "types_to_exclude": [
    "module",
    "function",
    "builtin_function_or_method",
    "instance",
    "_Feature"
   ],
   "window_display": false
  }
 },
 "nbformat": 4,
 "nbformat_minor": 4
}