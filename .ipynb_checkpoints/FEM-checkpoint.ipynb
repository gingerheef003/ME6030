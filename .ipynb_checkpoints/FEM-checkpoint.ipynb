{
 "cells": [
  {
   "cell_type": "code",
   "execution_count": 0,
   "metadata": {
    "collapsed": false
   },
   "outputs": [
   ],
   "source": [
   ]
  },
  {
   "cell_type": "markdown",
   "metadata": {
    "collapsed": false
   },
   "source": [
    "# FEM \n",
    "In this notebook we implement the FEM and exact solution for different beam problems \n",
    "\n",
    "The differential equation to solve is given as follows \n",
    "\n",
    "$EI \\frac{d^4 w}{d x^4} = p$\n",
    "\n",
    "The integral form (technically called weak form) related to the above equation is as follows\n",
    "\n",
    "$\\int_0^L EI \\frac{d^2 w}{d x^2} \\frac{d^2 v}{d x^2} \\, dx = \\int_0^L p v \\, dx \\: \\forall \\: v \\: \\in \\: \\mathcal{F}$\n",
    "\n",
    "## Exercise 1: Cantilever beam with a distributed load\n",
    "\n",
    "We find the exact solution through integration"
   ]
  },
  {
   "cell_type": "code",
   "execution_count": 1,
   "metadata": {
    "collapsed": false
   },
   "outputs": [
    {
     "data": {
      "text/html": [
       "<html>\\(\\displaystyle \\frac{1}{6} \\, d_{1} x^{3} + \\frac{p x^{4}}{24 \\, \\mathit{EI}} + \\frac{1}{2} \\, d_{2} x^{2} + d_{3} x + d_{4}\\)</html>"
      ],
      "text/latex": [
       "$\\displaystyle \\frac{1}{6} \\, d_{1} x^{3} + \\frac{p x^{4}}{24 \\, \\mathit{EI}} + \\frac{1}{2} \\, d_{2} x^{2} + d_{3} x + d_{4}$"
      ],
      "text/plain": [
       "1/6*d1*x^3 + 1/24*p*x^4/EI + 1/2*d2*x^2 + d3*x + d4"
      ]
     },
     "execution_count": 1,
     "metadata": {
     },
     "output_type": "execute_result"
    }
   ],
   "source": [
    "var('EI, L, p, d1, d2, d3, d4')\n",
    "junk1 = integrate(p/EI, x)+d1\n",
    "junk2 = integrate(junk1, x)+d2\n",
    "junk3 = integrate(junk2, x)+d3\n",
    "junk4 = integrate(junk3, x)+d4\n",
    "# need to include the constants of integration\n",
    "show(junk4)"
   ]
  },
  {
   "cell_type": "code",
   "execution_count": 2,
   "metadata": {
    "collapsed": false
   },
   "outputs": [
   ],
   "source": [
    "eq1lhs = junk4.subs(x=0)\n",
    "eq2lhs = diff(junk4, x).subs(x=0)\n",
    "eq3lhs = diff(junk4, x, 2).subs(x=L)\n",
    "eq4lhs = diff(junk4, x, 3).subs(x=L)"
   ]
  },
  {
   "cell_type": "code",
   "execution_count": 3,
   "metadata": {
    "collapsed": false
   },
   "outputs": [
    {
     "data": {
      "text/html": [
       "<html>\\(\\displaystyle \\left[d_{1} = -\\frac{L p}{\\mathit{EI}}, d_{2} = \\frac{L^{2} p}{2 \\, \\mathit{EI}}, d_{3} = 0, d_{4} = 0\\right]\\)</html>"
      ],
      "text/latex": [
       "$\\displaystyle \\left[d_{1} = -\\frac{L p}{\\mathit{EI}}, d_{2} = \\frac{L^{2} p}{2 \\, \\mathit{EI}}, d_{3} = 0, d_{4} = 0\\right]$"
      ],
      "text/plain": [
       "[d1 == -L*p/EI, d2 == 1/2*L^2*p/EI, d3 == 0, d4 == 0]"
      ]
     },
     "execution_count": 3,
     "metadata": {
     },
     "output_type": "execute_result"
    }
   ],
   "source": [
    "sol=solve([eq1lhs==0, eq2lhs==0, eq3lhs==0, eq4lhs==0], d1, d2, d3, d4)\n",
    "show(sol[0])"
   ]
  },
  {
   "cell_type": "code",
   "execution_count": 4,
   "metadata": {
    "collapsed": false
   },
   "outputs": [
    {
     "data": {
      "text/html": [
       "<html>\\(\\displaystyle \\frac{L^{2} p x^{2}}{4 \\, \\mathit{EI}} - \\frac{L p x^{3}}{6 \\, \\mathit{EI}} + \\frac{p x^{4}}{24 \\, \\mathit{EI}}\\)</html>"
      ],
      "text/latex": [
       "$\\displaystyle \\frac{L^{2} p x^{2}}{4 \\, \\mathit{EI}} - \\frac{L p x^{3}}{6 \\, \\mathit{EI}} + \\frac{p x^{4}}{24 \\, \\mathit{EI}}$"
      ],
      "text/plain": [
       "1/4*L^2*p*x^2/EI - 1/6*L*p*x^3/EI + 1/24*p*x^4/EI"
      ]
     },
     "execution_count": 4,
     "metadata": {
     },
     "output_type": "execute_result"
    }
   ],
   "source": [
    "w_analytical = junk4.subs(d1=sol[0][0].rhs(), d2=sol[0][1].rhs(), \\\n",
    " d3=sol[0][2].rhs(), d4=sol[0][3].rhs() )\n",
    "\n",
    "show(w_analytical)"
   ]
  },
  {
   "cell_type": "markdown",
   "metadata": {
    "collapsed": false
   },
   "source": [
    "## FEM solution \n",
    "\n",
    "For this solution we choose the function space to be \n",
    "\n",
    "$\\mathcal{F} = \\mbox{span}\\{x^2, x^3, x^4\\}$\n",
    "\n",
    "Note that $1$ and $x$ is excluded from the function space as it does not satisfy the essential/ kinematic boundary condition at x=0 "
   ]
  },
  {
   "cell_type": "code",
   "execution_count": 5,
   "metadata": {
    "collapsed": false
   },
   "outputs": [
   ],
   "source": [
    "var('c1, c2, c3')\n",
    "w_fem = c1*x^2+c2*x^3+c3*x^4 \n",
    "\n",
    "eqn1lhs = integrate(EI*diff(w_fem, x, 2)*diff(x^2, x, 2), (x, 0, L))\n",
    "eqn1rhs = integrate(p*x^2, (x, 0, L))\n",
    "eq1 = eqn1lhs==eqn1rhs \n",
    "\n",
    "eqn2lhs = integrate(EI*diff(w_fem, x, 2)*diff(x^3, x, 2), (x, 0, L))\n",
    "eqn2rhs = integrate(p*x^3, (x, 0, L))\n",
    "eq2 = eqn2lhs==eqn2rhs\n",
    "\n",
    "eqn3lhs = integrate(EI*diff(w_fem, x, 2)*diff(x^4, x, 2), (x, 0, L))\n",
    "eqn3rhs = integrate(p*x^4, (x, 0, L))\n",
    "eq3 = eqn3lhs==eqn3rhs\n"
   ]
  },
  {
   "cell_type": "code",
   "execution_count": 6,
   "metadata": {
    "collapsed": false
   },
   "outputs": [
   ],
   "source": [
    "sol_fem = solve([eq1, eq2, eq3], c1, c2, c3)"
   ]
  },
  {
   "cell_type": "code",
   "execution_count": 7,
   "metadata": {
    "collapsed": false
   },
   "outputs": [
   ],
   "source": [
    "w_fem_ans = w_fem.subs(c1=sol_fem[0][0].rhs(), c2=sol_fem[0][1].rhs(), c3=sol_fem[0][2].rhs())"
   ]
  },
  {
   "cell_type": "code",
   "execution_count": 8,
   "metadata": {
    "collapsed": false
   },
   "outputs": [
    {
     "data": {
      "text/html": [
       "<html>\\(\\displaystyle \\frac{L^{2} p x^{2}}{4 \\, \\mathit{EI}} - \\frac{L p x^{3}}{6 \\, \\mathit{EI}} + \\frac{p x^{4}}{24 \\, \\mathit{EI}}\\)</html>"
      ],
      "text/latex": [
       "$\\displaystyle \\frac{L^{2} p x^{2}}{4 \\, \\mathit{EI}} - \\frac{L p x^{3}}{6 \\, \\mathit{EI}} + \\frac{p x^{4}}{24 \\, \\mathit{EI}}$"
      ],
      "text/plain": [
       "1/4*L^2*p*x^2/EI - 1/6*L*p*x^3/EI + 1/24*p*x^4/EI"
      ]
     },
     "execution_count": 8,
     "metadata": {
     },
     "output_type": "execute_result"
    }
   ],
   "source": [
    "show(w_fem_ans)"
   ]
  },
  {
   "cell_type": "markdown",
   "metadata": {
    "collapsed": false
   },
   "source": [
    "Thus, we find the FEM solution matches with the analytical solution. This is because the \n",
    "the function space was rich and contained the exact solution. Any further diversity in the function space is futile.\n",
    "\n",
    "To prove this point let us rework this problem using \n",
    "\n",
    "$\\mathcal{F} = \\mbox{span}\\{ x^2, x^3, x^4, x^5 \\} $"
   ]
  },
  {
   "cell_type": "code",
   "execution_count": 24,
   "metadata": {
    "collapsed": false
   },
   "outputs": [
    {
     "data": {
      "text/html": [
       "\\(\\displaystyle \\frac{L^{2} p x^{2}}{4 \\, \\mathit{EI}} - \\frac{L p x^{3}}{6 \\, \\mathit{EI}} + \\frac{p x^{4}}{24 \\, \\mathit{EI}}\\)"
      ],
      "text/latex": [
       "$\\displaystyle \\frac{L^{2} p x^{2}}{4 \\, \\mathit{EI}} - \\frac{L p x^{3}}{6 \\, \\mathit{EI}} + \\frac{p x^{4}}{24 \\, \\mathit{EI}}$"
      ],
      "text/plain": [
       "1/4*L^2*p*x^2/EI - 1/6*L*p*x^3/EI + 1/24*p*x^4/EI"
      ]
     },
     "execution_count": 24,
     "metadata": {
     },
     "output_type": "execute_result"
    }
   ],
   "source": [
    "var('c4')\n",
    "w_fem2 = c1*x^2+c2*x^3+c3*x^4+c4*x^5 \n",
    "\n",
    "eqn1lhs = integrate(EI*diff(w_fem2, x, 2)*diff(x^2, x, 2), (x, 0, L))\n",
    "eqn1rhs = integrate(p*x^2, (x, 0, L))\n",
    "eq1 = eqn1lhs==eqn1rhs \n",
    "\n",
    "eqn2lhs = integrate(EI*diff(w_fem2, x, 2)*diff(x^3, x, 2), (x, 0, L))\n",
    "eqn2rhs = integrate(p*x^3, (x, 0, L))\n",
    "eq2 = eqn2lhs==eqn2rhs\n",
    "\n",
    "eqn3lhs = integrate(EI*diff(w_fem2, x, 2)*diff(x^4, x, 2), (x, 0, L))\n",
    "eqn3rhs = integrate(p*x^4, (x, 0, L))\n",
    "eq3 = eqn3lhs==eqn3rhs\n",
    "\n",
    "eqn4lhs = integrate(EI*diff(w_fem2, x, 2)*diff(x^5, x, 2), (x, 0, L))\n",
    "eqn4rhs = integrate(p*x^5, (x, 0, L))\n",
    "eq4 = eqn4lhs==eqn4rhs\n",
    "\n",
    "sol_fem2 = solve([eq1, eq2, eq3, eq4], c1, c2, c3, c4)\n",
    "\n",
    "fem2_ans = w_fem2.subs(c1=sol_fem2[0][0].rhs(), c2=sol_fem2[0][1].rhs(),\\\n",
    " c3=sol_fem2[0][2].rhs(), c4=sol_fem2[0][3].rhs() )\n",
    "\n",
    "show(fem2_ans)"
   ]
  },
  {
   "cell_type": "markdown",
   "metadata": {
    "collapsed": false
   },
   "source": [
    "The answer is unchanged (as it should). \n",
    "\n",
    "Finally, let us rework the solution with \n",
    "\n",
    "$\\mathcal{F} = \\mbox{span} \\{x^2, x^3 \\} $\n",
    "\n",
    "This space does not contain the exact solution"
   ]
  },
  {
   "cell_type": "code",
   "execution_count": 25,
   "metadata": {
    "collapsed": false
   },
   "outputs": [
    {
     "data": {
      "text/html": [
       "\\(\\displaystyle \\frac{5 \\, L^{2} p x^{2}}{24 \\, \\mathit{EI}} - \\frac{L p x^{3}}{12 \\, \\mathit{EI}}\\)"
      ],
      "text/latex": [
       "$\\displaystyle \\frac{5 \\, L^{2} p x^{2}}{24 \\, \\mathit{EI}} - \\frac{L p x^{3}}{12 \\, \\mathit{EI}}$"
      ],
      "text/plain": [
       "5/24*L^2*p*x^2/EI - 1/12*L*p*x^3/EI"
      ]
     },
     "execution_count": 25,
     "metadata": {
     },
     "output_type": "execute_result"
    }
   ],
   "source": [
    "w_fem3 = c1*x^2+c2*x^3\n",
    "\n",
    "eqn1lhs = integrate(EI*diff(w_fem3, x, 2)*diff(x^2, x, 2), (x, 0, L))\n",
    "eqn1rhs = integrate(p*x^2, (x, 0, L))\n",
    "eq1 = eqn1lhs==eqn1rhs \n",
    "\n",
    "eqn2lhs = integrate(EI*diff(w_fem3, x, 2)*diff(x^3, x, 2), (x, 0, L))\n",
    "eqn2rhs = integrate(p*x^3, (x, 0, L))\n",
    "eq2 = eqn2lhs==eqn2rhs\n",
    "\n",
    "sol_fem3 = solve([eq1, eq2], c1, c2)\n",
    "\n",
    "fem3_ans = w_fem3.subs(c1=sol_fem3[0][0].rhs(), c2=sol_fem3[0][1].rhs())\n",
    "\n",
    "show(fem3_ans)"
   ]
  },
  {
   "cell_type": "markdown",
   "metadata": {
    "collapsed": false
   },
   "source": [
    "```\n",
    "\n",
    "```\n",
    "\n",
    "Note the coefficients of $x^2$ and $x^3$ do not match with the above solution. \n",
    "The above is the *best approximate* solution in the function space which does not contain the solution. \n",
    "\n",
    "The idea of *best approximate* was elaborately discussed in the context of finite dimensional spaces. In function spaces too something similar happens.\n",
    "\n"
   ]
  }
 ],
 "metadata": {
  "kernelspec": {
   "argv": [
    "sage-10.2",
    "--python",
    "-m",
    "sage.repl.ipython_kernel",
    "--matplotlib=inline",
    "-f",
    "{connection_file}"
   ],
   "display_name": "SageMath 10.2",
   "env": {
   },
   "language": "sagemath",
   "metadata": {
    "cocalc": {
     "description": "Open-source mathematical software system",
     "priority": 2,
     "url": "https://www.sagemath.org/"
    }
   },
   "name": "sage-10.2",
   "resource_dir": "/ext/jupyter/kernels/sage-10.2"
  },
  "language_info": {
   "codemirror_mode": {
    "name": "ipython",
    "version": 3
   },
   "file_extension": ".py",
   "mimetype": "text/x-python",
   "name": "python",
   "nbconvert_exporter": "python",
   "pygments_lexer": "ipython3",
   "version": "3.11.1"
  },
  "varInspector": {
   "cols": {
    "lenName": 16,
    "lenType": 16,
    "lenVar": 40
   },
   "kernels_config": {
    "python": {
     "delete_cmd_postfix": "",
     "delete_cmd_prefix": "del ",
     "library": "var_list.py",
     "varRefreshCmd": "print(var_dic_list())"
    },
    "r": {
     "delete_cmd_postfix": ") ",
     "delete_cmd_prefix": "rm(",
     "library": "var_list.r",
     "varRefreshCmd": "cat(var_dic_list()) "
    }
   },
   "types_to_exclude": [
    "module",
    "function",
    "builtin_function_or_method",
    "instance",
    "_Feature"
   ],
   "window_display": false
  }
 },
 "nbformat": 4,
 "nbformat_minor": 4
}