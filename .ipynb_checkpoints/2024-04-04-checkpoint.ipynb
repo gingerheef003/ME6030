{
 "cells": [
  {
   "cell_type": "code",
   "execution_count": 64,
   "id": "61b2341f-cb7d-48f7-8726-17fff74ebed6",
   "metadata": {},
   "outputs": [
    {
     "data": {
      "text/html": [
       "<html>\\(\\displaystyle \\left(\\begin{array}{rrrrr}\n",
       "1 & 2 & 2 & 9 & -1 \\\\\n",
       "1 & 2 & 3 & 13 & -2 \\\\\n",
       "-1 & -2 & -1 & -5 & 1 \\\\\n",
       "1 & 2 & 0 & 1 & 2\n",
       "\\end{array}\\right)\\)</html>"
      ],
      "text/latex": [
       "$\\displaystyle \\left(\\begin{array}{rrrrr}\n",
       "1 & 2 & 2 & 9 & -1 \\\\\n",
       "1 & 2 & 3 & 13 & -2 \\\\\n",
       "-1 & -2 & -1 & -5 & 1 \\\\\n",
       "1 & 2 & 0 & 1 & 2\n",
       "\\end{array}\\right)$"
      ],
      "text/plain": [
       "[ 1  2  2  9 -1]\n",
       "[ 1  2  3 13 -2]\n",
       "[-1 -2 -1 -5  1]\n",
       "[ 1  2  0  1  2]"
      ]
     },
     "metadata": {},
     "output_type": "display_data"
    }
   ],
   "source": [
    "A = matrix(QQ, [[1,2,2,9,-1],\n",
    "                [1,2,3,13,-2],\n",
    "                [-1,-2,-1,-5,1],\n",
    "                [1,2,0,1,2]])\n",
    "\n",
    "show(A)"
   ]
  },
  {
   "cell_type": "code",
   "execution_count": 65,
   "id": "0776778a-61a3-46f2-bb4e-4e3a043c9d69",
   "metadata": {},
   "outputs": [
    {
     "data": {
      "text/html": [
       "<html>\\(\\displaystyle \\left(\\begin{array}{rrrrr}\n",
       "1 & 2 & 0 & 1 & 0 \\\\\n",
       "0 & 0 & 1 & 4 & 0 \\\\\n",
       "0 & 0 & 0 & 0 & 1 \\\\\n",
       "0 & 0 & 0 & 0 & 0\n",
       "\\end{array}\\right)\\)</html>"
      ],
      "text/latex": [
       "$\\displaystyle \\left(\\begin{array}{rrrrr}\n",
       "1 & 2 & 0 & 1 & 0 \\\\\n",
       "0 & 0 & 1 & 4 & 0 \\\\\n",
       "0 & 0 & 0 & 0 & 1 \\\\\n",
       "0 & 0 & 0 & 0 & 0\n",
       "\\end{array}\\right)$"
      ],
      "text/plain": [
       "[1 2 0 1 0]\n",
       "[0 0 1 4 0]\n",
       "[0 0 0 0 1]\n",
       "[0 0 0 0 0]"
      ]
     },
     "metadata": {},
     "output_type": "display_data"
    }
   ],
   "source": [
    "show(A.rref())"
   ]
  },
  {
   "cell_type": "code",
   "execution_count": 66,
   "id": "5f1c2c9f-117a-4966-a6fe-532d59e7f5cd",
   "metadata": {},
   "outputs": [
    {
     "data": {
      "text/html": [
       "<html>\\(\\displaystyle \\left(\\begin{array}{rrrr}\n",
       "1 & 0 & 0 & 5 \\\\\n",
       "0 & 1 & 0 & -3 \\\\\n",
       "0 & 0 & 1 & 1 \\\\\n",
       "0 & 0 & 0 & 0 \\\\\n",
       "0 & 0 & 0 & 0\n",
       "\\end{array}\\right)\\)</html>"
      ],
      "text/latex": [
       "$\\displaystyle \\left(\\begin{array}{rrrr}\n",
       "1 & 0 & 0 & 5 \\\\\n",
       "0 & 1 & 0 & -3 \\\\\n",
       "0 & 0 & 1 & 1 \\\\\n",
       "0 & 0 & 0 & 0 \\\\\n",
       "0 & 0 & 0 & 0\n",
       "\\end{array}\\right)$"
      ],
      "text/plain": [
       "[ 1  0  0  5]\n",
       "[ 0  1  0 -3]\n",
       "[ 0  0  1  1]\n",
       "[ 0  0  0  0]\n",
       "[ 0  0  0  0]"
      ]
     },
     "metadata": {},
     "output_type": "display_data"
    }
   ],
   "source": [
    "junk = A.transpose()\n",
    "show(junk.rref())"
   ]
  },
  {
   "cell_type": "code",
   "execution_count": 67,
   "id": "02195ed2-1b4b-429e-9b53-508936c032ba",
   "metadata": {},
   "outputs": [
    {
     "data": {
      "text/html": [
       "<html>\\(\\displaystyle \\left(\\begin{array}{rrrrr}\n",
       "4 & 8 & 6 & 28 & -2 \\\\\n",
       "8 & 16 & 12 & 56 & -4 \\\\\n",
       "6 & 12 & 14 & 62 & -9 \\\\\n",
       "28 & 56 & 62 & 276 & -38 \\\\\n",
       "-2 & -4 & -9 & -38 & 10\n",
       "\\end{array}\\right)\\)</html>"
      ],
      "text/latex": [
       "$\\displaystyle \\left(\\begin{array}{rrrrr}\n",
       "4 & 8 & 6 & 28 & -2 \\\\\n",
       "8 & 16 & 12 & 56 & -4 \\\\\n",
       "6 & 12 & 14 & 62 & -9 \\\\\n",
       "28 & 56 & 62 & 276 & -38 \\\\\n",
       "-2 & -4 & -9 & -38 & 10\n",
       "\\end{array}\\right)$"
      ],
      "text/plain": [
       "[  4   8   6  28  -2]\n",
       "[  8  16  12  56  -4]\n",
       "[  6  12  14  62  -9]\n",
       "[ 28  56  62 276 -38]\n",
       "[ -2  -4  -9 -38  10]"
      ]
     },
     "metadata": {},
     "output_type": "display_data"
    }
   ],
   "source": [
    "AtA = A.transpose()*A\n",
    "show(AtA)"
   ]
  },
  {
   "cell_type": "code",
   "execution_count": 68,
   "id": "faabff34-41db-4f68-bcc6-047f78e9f3aa",
   "metadata": {},
   "outputs": [],
   "source": [
    "Lamda, Q2m = AtA.eigenmatrix_right()"
   ]
  },
  {
   "cell_type": "code",
   "execution_count": 69,
   "id": "63ef3e79-2767-4d45-98f6-d8f7e42d06cb",
   "metadata": {},
   "outputs": [
    {
     "data": {
      "text/html": [
       "<html>\\(\\displaystyle \\left(\\begin{array}{rrrrr}\n",
       "0 & 0 & 0 & 0 & 0 \\\\\n",
       "0 & 0 & 0 & 0 & 0 \\\\\n",
       "0 & 0 & 1.053413283514143? & 0 & 0 \\\\\n",
       "0 & 0 & 0 & 9.49758243909826? & 0 \\\\\n",
       "0 & 0 & 0 & 0 & 309.4490042773876?\n",
       "\\end{array}\\right)\\)</html>"
      ],
      "text/latex": [
       "$\\displaystyle \\left(\\begin{array}{rrrrr}\n",
       "0 & 0 & 0 & 0 & 0 \\\\\n",
       "0 & 0 & 0 & 0 & 0 \\\\\n",
       "0 & 0 & 1.053413283514143? & 0 & 0 \\\\\n",
       "0 & 0 & 0 & 9.49758243909826? & 0 \\\\\n",
       "0 & 0 & 0 & 0 & 309.4490042773876?\n",
       "\\end{array}\\right)$"
      ],
      "text/plain": [
       "[                 0                  0                  0                  0                  0]\n",
       "[                 0                  0                  0                  0                  0]\n",
       "[                 0                  0 1.053413283514143?                  0                  0]\n",
       "[                 0                  0                  0  9.49758243909826?                  0]\n",
       "[                 0                  0                  0                  0 309.4490042773876?]"
      ]
     },
     "metadata": {},
     "output_type": "display_data"
    }
   ],
   "source": [
    "show(Lamda)"
   ]
  },
  {
   "cell_type": "markdown",
   "id": "c7a3d09e-29ea-4478-94e2-e530457087a9",
   "metadata": {},
   "source": [
    "Thus sagemath return eigenvalues in increasing order\n",
    "\n",
    "Further as there are two eigenvalues associated with the zero eigenvalue\n",
    "\n",
    "Thus thers is a plane of eigenvalues associated with the zero eigenvalue\n",
    "\n",
    "The eigenvectors associated with the zero eigenvalue given out by sage math are therefore not orthogonal\n",
    "\n",
    "All other eigenvectors associated with the distinct eigenvalues are orthogonal but not of norm one"
   ]
  },
  {
   "cell_type": "code",
   "execution_count": 70,
   "id": "088f6e9c-1e7f-4f7e-a096-ee085a3dbec7",
   "metadata": {},
   "outputs": [
    {
     "data": {
      "text/html": [
       "<html>\\(\\displaystyle \\left(\\begin{array}{rrrrr}\n",
       "1 & 0 & 1 & 1 & 1 \\\\\n",
       "0 & 1 & 2 & 2 & 2 \\\\\n",
       "4 & 8 & -0.4416150078391428? & -0.2917830679619200? & 2.192968627948302? \\\\\n",
       "-1 & -2 & -0.7664600313565711? & -0.1671322718476802? & 9.77187451179321? \\\\\n",
       "0 & 0 & -2.581992104266495? & 2.036007770697589? & -1.339353089743978?\n",
       "\\end{array}\\right)\\)</html>"
      ],
      "text/latex": [
       "$\\displaystyle \\left(\\begin{array}{rrrrr}\n",
       "1 & 0 & 1 & 1 & 1 \\\\\n",
       "0 & 1 & 2 & 2 & 2 \\\\\n",
       "4 & 8 & -0.4416150078391428? & -0.2917830679619200? & 2.192968627948302? \\\\\n",
       "-1 & -2 & -0.7664600313565711? & -0.1671322718476802? & 9.77187451179321? \\\\\n",
       "0 & 0 & -2.581992104266495? & 2.036007770697589? & -1.339353089743978?\n",
       "\\end{array}\\right)$"
      ],
      "text/plain": [
       "[                   1                    0                    1                    1                    1]\n",
       "[                   0                    1                    2                    2                    2]\n",
       "[                   4                    8 -0.4416150078391428? -0.2917830679619200?   2.192968627948302?]\n",
       "[                  -1                   -2 -0.7664600313565711? -0.1671322718476802?    9.77187451179321?]\n",
       "[                   0                    0  -2.581992104266495?   2.036007770697589?  -1.339353089743978?]"
      ]
     },
     "metadata": {},
     "output_type": "display_data"
    }
   ],
   "source": [
    "show(Q2m)"
   ]
  },
  {
   "cell_type": "code",
   "execution_count": 71,
   "id": "1038ff13-cbf9-4a11-9807-1036396a05a1",
   "metadata": {},
   "outputs": [],
   "source": [
    "lambda1 = Lamda[4,4]\n",
    "lambda2 = Lamda[3,3]\n",
    "lambda3 = Lamda[2,2]\n",
    "\n",
    "sigma1 = sqrt(lambda1)\n",
    "sigma2 = sqrt(lambda2)\n",
    "sigma3 = sqrt(lambda3)"
   ]
  },
  {
   "cell_type": "code",
   "execution_count": 72,
   "id": "0c21885c-c2b6-4bda-9bc5-4b718acb0288",
   "metadata": {},
   "outputs": [],
   "source": [
    "Q2_col1p =Q2m[:,4]\n",
    "Q2_col2p =Q2m[:,3]\n",
    "Q2_col3p =Q2m[:,2]\n",
    "Q2_col4p =Q2m[:,1]\n",
    "Q2_col5p =Q2m[:,0]"
   ]
  },
  {
   "cell_type": "code",
   "execution_count": 73,
   "id": "e349b6b7-791e-4a36-bdfb-7727505efe8b",
   "metadata": {},
   "outputs": [
    {
     "data": {
      "text/plain": [
       "3.528337855323722"
      ]
     },
     "execution_count": 73,
     "metadata": {},
     "output_type": "execute_result"
    }
   ],
   "source": [
    "norm(Q2_col3p)"
   ]
  },
  {
   "cell_type": "code",
   "execution_count": 74,
   "id": "e44bd1e7-8669-4228-a81b-6d30638a6f93",
   "metadata": {},
   "outputs": [
    {
     "data": {
      "text/plain": [
       "[0]"
      ]
     },
     "execution_count": 74,
     "metadata": {},
     "output_type": "execute_result"
    }
   ],
   "source": [
    "Q2_col1p.transpose()*Q2_col5p"
   ]
  },
  {
   "cell_type": "code",
   "execution_count": 79,
   "id": "2e6d6e1c-e195-45ae-af1b-3bffe911f73b",
   "metadata": {},
   "outputs": [],
   "source": [
    "Q2_col1 = Q2_col1p/norm(Q2_col1p)\n",
    "Q2_col2 = Q2_col2p/norm(Q2_col2p)\n",
    "Q2_col3 = Q2_col3p/norm(Q2_col3p)\n",
    "Q2_col4 = Q2_col4p/norm(Q2_col4p)"
   ]
  },
  {
   "cell_type": "code",
   "execution_count": 80,
   "id": "e6a75bc1-37e0-4dae-9f79-b95c525fe925",
   "metadata": {},
   "outputs": [],
   "source": [
    "junk = Q2_col5p.transpose()*Q2_col4\n",
    "junk2 = Q2_col5p - junk[0,0]*Q2_col4\n",
    "\n",
    "Q2_col5 = junk2/norm(junk2)"
   ]
  },
  {
   "cell_type": "code",
   "execution_count": 81,
   "id": "091da462-32b8-4263-91aa-560fcc867e8a",
   "metadata": {},
   "outputs": [],
   "source": [
    "Q2 = Q2_col1.augment(Q2_col2).augment(Q2_col3).augment(Q2_col4).augment(Q2_col5)"
   ]
  },
  {
   "cell_type": "code",
   "execution_count": 82,
   "id": "baa664b1-a08f-4de0-a637-7c2b1e8e53c2",
   "metadata": {},
   "outputs": [
    {
     "data": {
      "text/html": [
       "<html>\\(\\displaystyle \\left(\\begin{array}{rrrrr}\n",
       "1.0 & 4.163336342344337 \\times 10^{-17} & 5.551115123125783 \\times 10^{-17} & 0.0 & -5.204170427930421 \\times 10^{-18} \\\\\n",
       "4.163336342344337 \\times 10^{-17} & 0.9999999999999998 & 5.551115123125783 \\times 10^{-17} & 5.204170427930421 \\times 10^{-18} & -2.710505431213761 \\times 10^{-17} \\\\\n",
       "5.551115123125783 \\times 10^{-17} & 5.551115123125783 \\times 10^{-17} & 1.0 & 1.3877787807814457 \\times 10^{-17} & 3.903127820947816 \\times 10^{-18} \\\\\n",
       "0.0 & 5.204170427930421 \\times 10^{-18} & 1.3877787807814457 \\times 10^{-17} & 1.0 & 2.419939248987646 \\times 10^{-16} \\\\\n",
       "-5.204170427930421 \\times 10^{-18} & -2.710505431213761 \\times 10^{-17} & 3.903127820947816 \\times 10^{-18} & 2.419939248987646 \\times 10^{-16} & 0.9999999999999997\n",
       "\\end{array}\\right)\\)</html>"
      ],
      "text/latex": [
       "$\\displaystyle \\left(\\begin{array}{rrrrr}\n",
       "1.0 & 4.163336342344337 \\times 10^{-17} & 5.551115123125783 \\times 10^{-17} & 0.0 & -5.204170427930421 \\times 10^{-18} \\\\\n",
       "4.163336342344337 \\times 10^{-17} & 0.9999999999999998 & 5.551115123125783 \\times 10^{-17} & 5.204170427930421 \\times 10^{-18} & -2.710505431213761 \\times 10^{-17} \\\\\n",
       "5.551115123125783 \\times 10^{-17} & 5.551115123125783 \\times 10^{-17} & 1.0 & 1.3877787807814457 \\times 10^{-17} & 3.903127820947816 \\times 10^{-18} \\\\\n",
       "0.0 & 5.204170427930421 \\times 10^{-18} & 1.3877787807814457 \\times 10^{-17} & 1.0 & 2.419939248987646 \\times 10^{-16} \\\\\n",
       "-5.204170427930421 \\times 10^{-18} & -2.710505431213761 \\times 10^{-17} & 3.903127820947816 \\times 10^{-18} & 2.419939248987646 \\times 10^{-16} & 0.9999999999999997\n",
       "\\end{array}\\right)$"
      ],
      "text/plain": [
       "[                   1.0  4.163336342344337e-17  5.551115123125783e-17                    0.0 -5.204170427930421e-18]\n",
       "[ 4.163336342344337e-17     0.9999999999999998  5.551115123125783e-17  5.204170427930421e-18 -2.710505431213761e-17]\n",
       "[ 5.551115123125783e-17  5.551115123125783e-17                    1.0 1.3877787807814457e-17  3.903127820947816e-18]\n",
       "[                   0.0  5.204170427930421e-18 1.3877787807814457e-17                    1.0  2.419939248987646e-16]\n",
       "[-5.204170427930421e-18 -2.710505431213761e-17  3.903127820947816e-18  2.419939248987646e-16     0.9999999999999997]"
      ]
     },
     "metadata": {},
     "output_type": "display_data"
    }
   ],
   "source": [
    "show(Q2.transpose()*Q2)"
   ]
  },
  {
   "cell_type": "code",
   "execution_count": 83,
   "id": "bc426040-e8b6-4ebb-9c54-d8f68a4a6d65",
   "metadata": {},
   "outputs": [],
   "source": [
    "q1 = A*Q2_col1/sigma1\n",
    "q2 = A*Q2_col2/sigma2\n",
    "q3 = A*Q2_col3/sigma3"
   ]
  },
  {
   "cell_type": "code",
   "execution_count": 84,
   "id": "5fea3a20-ed8d-4e76-a871-588b169ad05f",
   "metadata": {},
   "outputs": [
    {
     "data": {
      "text/plain": [
       "1.1102230246251565e-16"
      ]
     },
     "execution_count": 84,
     "metadata": {},
     "output_type": "execute_result"
    }
   ],
   "source": [
    "vector(q1).dot_product(vector(q2))"
   ]
  },
  {
   "cell_type": "code",
   "execution_count": 86,
   "id": "7695bead-e551-4035-b345-e12ee7df693e",
   "metadata": {},
   "outputs": [
    {
     "data": {
      "text/html": [
       "<html>\\(\\displaystyle \\left(\\begin{array}{r}\n",
       "0.5420265334641097 \\\\\n",
       "0.7761459947304373 \\\\\n",
       "-0.315264414991492 \\\\\n",
       "0.06643026813774422\n",
       "\\end{array}\\right)\\)</html>"
      ],
      "text/latex": [
       "$\\displaystyle \\left(\\begin{array}{r}\n",
       "0.5420265334641097 \\\\\n",
       "0.7761459947304373 \\\\\n",
       "-0.315264414991492 \\\\\n",
       "0.06643026813774422\n",
       "\\end{array}\\right)$"
      ],
      "text/plain": [
       "[ 0.5420265334641097]\n",
       "[ 0.7761459947304373]\n",
       "[ -0.315264414991492]\n",
       "[0.06643026813774422]"
      ]
     },
     "metadata": {},
     "output_type": "display_data"
    },
    {
     "data": {
      "text/html": [
       "<html>\\(\\displaystyle \\left(\\begin{array}{r}\n",
       "0.09344293119633185 \\\\\n",
       "-0.22608859862759473 \\\\\n",
       "-0.19585189274965753 \\\\\n",
       "0.9496285591147859\n",
       "\\end{array}\\right)\\)</html>"
      ],
      "text/latex": [
       "$\\displaystyle \\left(\\begin{array}{r}\n",
       "0.09344293119633185 \\\\\n",
       "-0.22608859862759473 \\\\\n",
       "-0.19585189274965753 \\\\\n",
       "0.9496285591147859\n",
       "\\end{array}\\right)$"
      ],
      "text/plain": [
       "[ 0.09344293119633185]\n",
       "[-0.22608859862759473]\n",
       "[-0.19585189274965753]\n",
       "[  0.9496285591147859]"
      ]
     },
     "metadata": {},
     "output_type": "display_data"
    }
   ],
   "source": [
    "show(q1)\n",
    "show(q2)"
   ]
  },
  {
   "cell_type": "code",
   "execution_count": 88,
   "id": "55194307-5789-477a-9dec-af360816099b",
   "metadata": {},
   "outputs": [
    {
     "data": {
      "text/html": [
       "<html>\\(\\displaystyle \\left(\\begin{array}{rrrr}\n",
       "1.0 & 0.0 & 0.0 & 4.999999999999999 \\\\\n",
       "0.0 & 1.0 & 0.0 & -3.0 \\\\\n",
       "0.0 & 0.0 & 1.0 & 1.0000000000000002\n",
       "\\end{array}\\right)\\)</html>"
      ],
      "text/latex": [
       "$\\displaystyle \\left(\\begin{array}{rrrr}\n",
       "1.0 & 0.0 & 0.0 & 4.999999999999999 \\\\\n",
       "0.0 & 1.0 & 0.0 & -3.0 \\\\\n",
       "0.0 & 0.0 & 1.0 & 1.0000000000000002\n",
       "\\end{array}\\right)$"
      ],
      "text/plain": [
       "[               1.0                0.0                0.0  4.999999999999999]\n",
       "[               0.0                1.0                0.0               -3.0]\n",
       "[               0.0                0.0                1.0 1.0000000000000002]"
      ]
     },
     "metadata": {},
     "output_type": "display_data"
    }
   ],
   "source": [
    "Newm = q1.augment(q2).augment(q3).transpose()\n",
    "show(Newm.rref())"
   ]
  },
  {
   "cell_type": "code",
   "execution_count": 89,
   "id": "1be3647e-5dee-458f-a836-192dae886984",
   "metadata": {},
   "outputs": [],
   "source": [
    "q4p = vector([-5,3,-1,1])\n",
    "q4 = q4p/norm(q4p)"
   ]
  },
  {
   "cell_type": "code",
   "execution_count": 90,
   "id": "c1267dfc-c7ee-4044-97f0-e8f42876f976",
   "metadata": {},
   "outputs": [],
   "source": [
    "Q1 = q1.augment(q2).augment(q3).augment(q4)"
   ]
  },
  {
   "cell_type": "code",
   "execution_count": 92,
   "id": "476d2a7b-f7c4-47da-af7e-eface05acdac",
   "metadata": {},
   "outputs": [
    {
     "data": {
      "text/html": [
       "<html>\\(\\displaystyle \\left(\\begin{array}{rrrr}\n",
       "0.9999999999999999 & 1.1102230246251565 \\times 10^{-16} & 7.632783294297951 \\times 10^{-17} & -6.938893903907228 \\times 10^{-17} \\\\\n",
       "1.1102230246251565 \\times 10^{-16} & 1.0 & -1.1102230246251565 \\times 10^{-16} & -2.7755575615628914 \\times 10^{-17} \\\\\n",
       "7.632783294297951 \\times 10^{-17} & -1.1102230246251565 \\times 10^{-16} & 1.0000000000000004 & -2.7755575615628914 \\times 10^{-17} \\\\\n",
       "-6.938893903907228 \\times 10^{-17} & -2.7755575615628914 \\times 10^{-17} & -2.7755575615628914 \\times 10^{-17} & 1.0\n",
       "\\end{array}\\right)\\)</html>"
      ],
      "text/latex": [
       "$\\displaystyle \\left(\\begin{array}{rrrr}\n",
       "0.9999999999999999 & 1.1102230246251565 \\times 10^{-16} & 7.632783294297951 \\times 10^{-17} & -6.938893903907228 \\times 10^{-17} \\\\\n",
       "1.1102230246251565 \\times 10^{-16} & 1.0 & -1.1102230246251565 \\times 10^{-16} & -2.7755575615628914 \\times 10^{-17} \\\\\n",
       "7.632783294297951 \\times 10^{-17} & -1.1102230246251565 \\times 10^{-16} & 1.0000000000000004 & -2.7755575615628914 \\times 10^{-17} \\\\\n",
       "-6.938893903907228 \\times 10^{-17} & -2.7755575615628914 \\times 10^{-17} & -2.7755575615628914 \\times 10^{-17} & 1.0\n",
       "\\end{array}\\right)$"
      ],
      "text/plain": [
       "[     0.9999999999999999  1.1102230246251565e-16   7.632783294297951e-17  -6.938893903907228e-17]\n",
       "[ 1.1102230246251565e-16                     1.0 -1.1102230246251565e-16 -2.7755575615628914e-17]\n",
       "[  7.632783294297951e-17 -1.1102230246251565e-16      1.0000000000000004 -2.7755575615628914e-17]\n",
       "[ -6.938893903907228e-17 -2.7755575615628914e-17 -2.7755575615628914e-17                     1.0]"
      ]
     },
     "metadata": {},
     "output_type": "display_data"
    }
   ],
   "source": [
    "show(Q1.transpose()*Q1)"
   ]
  },
  {
   "cell_type": "code",
   "execution_count": 93,
   "id": "2d3d8cc0-6cf7-49b4-8206-128b1cea28f1",
   "metadata": {},
   "outputs": [],
   "source": [
    "sigma = matrix(CDF, 4,5,0)"
   ]
  },
  {
   "cell_type": "code",
   "execution_count": 94,
   "id": "883212df-1f67-4b6e-9417-9f65b408d7ea",
   "metadata": {},
   "outputs": [],
   "source": [
    "sigma[0,0] = sigma1\n",
    "sigma[1,1] = sigma2\n",
    "sigma[2,2] = sigma3"
   ]
  },
  {
   "cell_type": "code",
   "execution_count": 95,
   "id": "e34925e6-6a49-4381-83b7-b1eabbd2e858",
   "metadata": {},
   "outputs": [
    {
     "data": {
      "text/html": [
       "<html>\\(\\displaystyle \\left(\\begin{array}{rrrrr}\n",
       "17.591162675542158 & 0.0 & 0.0 & 0.0 & 0.0 \\\\\n",
       "0.0 & 3.0818147963656513 & 0.0 & 0.0 & 0.0 \\\\\n",
       "0.0 & 0.0 & 1.0263592370676764 & 0.0 & 0.0 \\\\\n",
       "0.0 & 0.0 & 0.0 & 0.0 & 0.0\n",
       "\\end{array}\\right)\\)</html>"
      ],
      "text/latex": [
       "$\\displaystyle \\left(\\begin{array}{rrrrr}\n",
       "17.591162675542158 & 0.0 & 0.0 & 0.0 & 0.0 \\\\\n",
       "0.0 & 3.0818147963656513 & 0.0 & 0.0 & 0.0 \\\\\n",
       "0.0 & 0.0 & 1.0263592370676764 & 0.0 & 0.0 \\\\\n",
       "0.0 & 0.0 & 0.0 & 0.0 & 0.0\n",
       "\\end{array}\\right)$"
      ],
      "text/plain": [
       "[17.591162675542158                0.0                0.0                0.0                0.0]\n",
       "[               0.0 3.0818147963656513                0.0                0.0                0.0]\n",
       "[               0.0                0.0 1.0263592370676764                0.0                0.0]\n",
       "[               0.0                0.0                0.0                0.0                0.0]"
      ]
     },
     "metadata": {},
     "output_type": "display_data"
    }
   ],
   "source": [
    "show(sigma)"
   ]
  },
  {
   "cell_type": "code",
   "execution_count": 96,
   "id": "b69b9a1d-a8b0-4492-b543-bb6bed33caac",
   "metadata": {},
   "outputs": [
    {
     "data": {
      "text/html": [
       "<html>\\(\\displaystyle \\left(\\begin{array}{rrrrr}\n",
       "1.0 & 2.0 & 2.0 & 8.999999999999996 & -1.0 \\\\\n",
       "0.9999999999999999 & 1.9999999999999998 & 3.0 & 12.999999999999998 & -1.9999999999999998 \\\\\n",
       "-1.0 & -2.0 & -0.9999999999999998 & -4.999999999999998 & 1.0 \\\\\n",
       "1.0 & 2.0 & -3.469446951953614 \\times 10^{-17} & 0.9999999999999998 & 2.0\n",
       "\\end{array}\\right)\\)</html>"
      ],
      "text/latex": [
       "$\\displaystyle \\left(\\begin{array}{rrrrr}\n",
       "1.0 & 2.0 & 2.0 & 8.999999999999996 & -1.0 \\\\\n",
       "0.9999999999999999 & 1.9999999999999998 & 3.0 & 12.999999999999998 & -1.9999999999999998 \\\\\n",
       "-1.0 & -2.0 & -0.9999999999999998 & -4.999999999999998 & 1.0 \\\\\n",
       "1.0 & 2.0 & -3.469446951953614 \\times 10^{-17} & 0.9999999999999998 & 2.0\n",
       "\\end{array}\\right)$"
      ],
      "text/plain": [
       "[                   1.0                    2.0                    2.0      8.999999999999996                   -1.0]\n",
       "[    0.9999999999999999     1.9999999999999998                    3.0     12.999999999999998    -1.9999999999999998]\n",
       "[                  -1.0                   -2.0    -0.9999999999999998     -4.999999999999998                    1.0]\n",
       "[                   1.0                    2.0 -3.469446951953614e-17     0.9999999999999998                    2.0]"
      ]
     },
     "metadata": {},
     "output_type": "display_data"
    }
   ],
   "source": [
    "show(Q1*sigma*Q2.transpose())"
   ]
  },
  {
   "cell_type": "code",
   "execution_count": 97,
   "id": "d3242016-7254-46af-804f-b61a923736a7",
   "metadata": {},
   "outputs": [
    {
     "data": {
      "text/html": [
       "<html>\\(\\displaystyle \\left(\\begin{array}{rrrrr}\n",
       "1 & 2 & 2 & 9 & -1 \\\\\n",
       "1 & 2 & 3 & 13 & -2 \\\\\n",
       "-1 & -2 & -1 & -5 & 1 \\\\\n",
       "1 & 2 & 0 & 1 & 2\n",
       "\\end{array}\\right)\\)</html>"
      ],
      "text/latex": [
       "$\\displaystyle \\left(\\begin{array}{rrrrr}\n",
       "1 & 2 & 2 & 9 & -1 \\\\\n",
       "1 & 2 & 3 & 13 & -2 \\\\\n",
       "-1 & -2 & -1 & -5 & 1 \\\\\n",
       "1 & 2 & 0 & 1 & 2\n",
       "\\end{array}\\right)$"
      ],
      "text/plain": [
       "[ 1  2  2  9 -1]\n",
       "[ 1  2  3 13 -2]\n",
       "[-1 -2 -1 -5  1]\n",
       "[ 1  2  0  1  2]"
      ]
     },
     "metadata": {},
     "output_type": "display_data"
    }
   ],
   "source": [
    "show(A)"
   ]
  },
  {
   "cell_type": "code",
   "execution_count": 109,
   "id": "2c47abd8-a709-4ad3-b27d-263ba5f74858",
   "metadata": {},
   "outputs": [],
   "source": [
    "from scipy import linalg"
   ]
  },
  {
   "cell_type": "code",
   "execution_count": 99,
   "id": "a24ec507-e382-45ab-bf74-a90b4cc0d60d",
   "metadata": {},
   "outputs": [],
   "source": [
    "U, S, Vh = linalg.svd(A)"
   ]
  },
  {
   "cell_type": "code",
   "execution_count": 104,
   "id": "419acb51-b625-444a-b761-6efba2d28f2a",
   "metadata": {},
   "outputs": [
    {
     "data": {
      "text/html": [
       "<html>\\(\\displaystyle \\verb|[1.75911627e+01|\\verb| |\\verb|3.08181480e+00|\\verb| |\\verb|1.02635924e+00|\\verb| |\\verb|2.64829763e-15]|\\)</html>"
      ],
      "text/latex": [
       "$\\displaystyle \\verb|[1.75911627e+01|\\verb| |\\verb|3.08181480e+00|\\verb| |\\verb|1.02635924e+00|\\verb| |\\verb|2.64829763e-15]|$"
      ],
      "text/plain": [
       "array([1.75911627e+01, 3.08181480e+00, 1.02635924e+00, 2.64829763e-15])"
      ]
     },
     "metadata": {},
     "output_type": "display_data"
    }
   ],
   "source": [
    "show(S)"
   ]
  },
  {
   "cell_type": "code",
   "execution_count": 105,
   "id": "0cdbc958-17c2-4711-862b-f5f0b4d7c2c9",
   "metadata": {},
   "outputs": [
    {
     "data": {
      "text/html": [
       "<html>\\(\\displaystyle \\begin{array}{l}\n",
       "\\verb|[[|\\verb| |\\verb|0.54202653|\\verb|  |\\verb|0.09344293|\\verb| |\\verb|-0.05505644|\\verb| |\\verb|-0.83333333]|\\\\\n",
       "\\verb| |\\verb|[|\\verb| |\\verb|0.77614599|\\verb| |\\verb|-0.2260886|\\verb|  |\\verb|-0.31061446|\\verb|  |\\verb|0.5|\\verb|       |\\verb|]|\\\\\n",
       "\\verb| |\\verb|[-0.31526441|\\verb| |\\verb|-0.19585189|\\verb| |\\verb|-0.91349472|\\verb| |\\verb|-0.16666667]|\\\\\n",
       "\\verb| |\\verb|[|\\verb| |\\verb|0.06643027|\\verb|  |\\verb|0.94962856|\\verb| |\\verb|-0.25693354|\\verb|  |\\verb|0.16666667]]|\n",
       "\\end{array}\\)</html>"
      ],
      "text/latex": [
       "$\\displaystyle \\begin{array}{l}\n",
       "\\verb|[[|\\verb| |\\verb|0.54202653|\\verb|  |\\verb|0.09344293|\\verb| |\\verb|-0.05505644|\\verb| |\\verb|-0.83333333]|\\\\\n",
       "\\verb| |\\verb|[|\\verb| |\\verb|0.77614599|\\verb| |\\verb|-0.2260886|\\verb|  |\\verb|-0.31061446|\\verb|  |\\verb|0.5|\\verb|       |\\verb|]|\\\\\n",
       "\\verb| |\\verb|[-0.31526441|\\verb| |\\verb|-0.19585189|\\verb| |\\verb|-0.91349472|\\verb| |\\verb|-0.16666667]|\\\\\n",
       "\\verb| |\\verb|[|\\verb| |\\verb|0.06643027|\\verb|  |\\verb|0.94962856|\\verb| |\\verb|-0.25693354|\\verb|  |\\verb|0.16666667]]|\n",
       "\\end{array}$"
      ],
      "text/plain": [
       "array([[ 0.54202653,  0.09344293, -0.05505644, -0.83333333],\n",
       "       [ 0.77614599, -0.2260886 , -0.31061446,  0.5       ],\n",
       "       [-0.31526441, -0.19585189, -0.91349472, -0.16666667],\n",
       "       [ 0.06643027,  0.94962856, -0.25693354,  0.16666667]])"
      ]
     },
     "metadata": {},
     "output_type": "display_data"
    }
   ],
   "source": [
    "show(U)"
   ]
  },
  {
   "cell_type": "code",
   "execution_count": 106,
   "id": "79b00aac-783c-4c6e-8fb7-050c9011abd3",
   "metadata": {},
   "outputs": [
    {
     "data": {
      "text/html": [
       "<html>\\(\\displaystyle \\left(\\begin{array}{rrrr}\n",
       "0.5420265334641097 & 0.09344293119633185 & -0.055056436370996185 & -0.8333333333333334 \\\\\n",
       "0.7761459947304373 & -0.22608859862759473 & -0.31061445625487266 & 0.5 \\\\\n",
       "-0.315264414991492 & -0.19585189274965753 & -0.913494721916154 & -0.16666666666666666 \\\\\n",
       "0.06643026813774422 & 0.9496285591147859 & -0.25693353500651706 & 0.16666666666666666\n",
       "\\end{array}\\right)\\)</html>"
      ],
      "text/latex": [
       "$\\displaystyle \\left(\\begin{array}{rrrr}\n",
       "0.5420265334641097 & 0.09344293119633185 & -0.055056436370996185 & -0.8333333333333334 \\\\\n",
       "0.7761459947304373 & -0.22608859862759473 & -0.31061445625487266 & 0.5 \\\\\n",
       "-0.315264414991492 & -0.19585189274965753 & -0.913494721916154 & -0.16666666666666666 \\\\\n",
       "0.06643026813774422 & 0.9496285591147859 & -0.25693353500651706 & 0.16666666666666666\n",
       "\\end{array}\\right)$"
      ],
      "text/plain": [
       "[   0.5420265334641097   0.09344293119633185 -0.055056436370996185   -0.8333333333333334]\n",
       "[   0.7761459947304373  -0.22608859862759473  -0.31061445625487266                   0.5]\n",
       "[   -0.315264414991492  -0.19585189274965753    -0.913494721916154  -0.16666666666666666]\n",
       "[  0.06643026813774422    0.9496285591147859  -0.25693353500651706   0.16666666666666666]"
      ]
     },
     "metadata": {},
     "output_type": "display_data"
    }
   ],
   "source": [
    "show(Q1)"
   ]
  },
  {
   "cell_type": "code",
   "execution_count": 107,
   "id": "d9903fe1-b1ce-4793-9dd7-db8cf9acbbf8",
   "metadata": {},
   "outputs": [
    {
     "data": {
      "text/html": [
       "<html>\\(\\displaystyle \\begin{array}{l}\n",
       "\\verb|[[|\\verb| |\\verb|9.66318852e-02|\\verb|  |\\verb|1.93263770e-01|\\verb|  |\\verb|2.11910693e-01|\\verb|  |\\verb|9.44274656e-01|\\\\\n",
       "\\verb|  |\\verb|-1.29424214e-01]|\\\\\n",
       "\\verb| |\\verb|[|\\verb| |\\verb|3.28648816e-01|\\verb|  |\\verb|6.57297632e-01|\\verb| |\\verb|-9.58941599e-02|\\verb| |\\verb|-5.49278233e-02|\\\\\n",
       "\\verb|   |\\verb|6.69131544e-01]|\\\\\n",
       "\\verb| |\\verb|[|\\verb| |\\verb|2.83419571e-01|\\verb|  |\\verb|5.66839141e-01|\\verb| |\\verb|-1.25162336e-01|\\verb| |\\verb|-2.17229773e-01|\\\\\n",
       "\\verb|  |\\verb|-7.31787094e-01]|\\\\\n",
       "\\verb| |\\verb|[-8.95676196e-01|\\verb|  |\\verb|4.40074544e-01|\\verb| |\\verb|-6.21084324e-02|\\verb|  |\\verb|1.55271081e-02|\\\\\n",
       "\\verb|  |\\verb|-2.49800181e-16]|\\\\\n",
       "\\verb| |\\verb|[|\\verb| |\\verb|9.47279985e-03|\\verb| |\\verb|-1.25046877e-01|\\verb| |\\verb|-9.62483818e-01|\\verb|  |\\verb|2.40620955e-01|\\\\\n",
       "\\verb|  |\\verb|-4.01154804e-17]]|\n",
       "\\end{array}\\)</html>"
      ],
      "text/latex": [
       "$\\displaystyle \\begin{array}{l}\n",
       "\\verb|[[|\\verb| |\\verb|9.66318852e-02|\\verb|  |\\verb|1.93263770e-01|\\verb|  |\\verb|2.11910693e-01|\\verb|  |\\verb|9.44274656e-01|\\\\\n",
       "\\verb|  |\\verb|-1.29424214e-01]|\\\\\n",
       "\\verb| |\\verb|[|\\verb| |\\verb|3.28648816e-01|\\verb|  |\\verb|6.57297632e-01|\\verb| |\\verb|-9.58941599e-02|\\verb| |\\verb|-5.49278233e-02|\\\\\n",
       "\\verb|   |\\verb|6.69131544e-01]|\\\\\n",
       "\\verb| |\\verb|[|\\verb| |\\verb|2.83419571e-01|\\verb|  |\\verb|5.66839141e-01|\\verb| |\\verb|-1.25162336e-01|\\verb| |\\verb|-2.17229773e-01|\\\\\n",
       "\\verb|  |\\verb|-7.31787094e-01]|\\\\\n",
       "\\verb| |\\verb|[-8.95676196e-01|\\verb|  |\\verb|4.40074544e-01|\\verb| |\\verb|-6.21084324e-02|\\verb|  |\\verb|1.55271081e-02|\\\\\n",
       "\\verb|  |\\verb|-2.49800181e-16]|\\\\\n",
       "\\verb| |\\verb|[|\\verb| |\\verb|9.47279985e-03|\\verb| |\\verb|-1.25046877e-01|\\verb| |\\verb|-9.62483818e-01|\\verb|  |\\verb|2.40620955e-01|\\\\\n",
       "\\verb|  |\\verb|-4.01154804e-17]]|\n",
       "\\end{array}$"
      ],
      "text/plain": [
       "array([[ 9.66318852e-02,  1.93263770e-01,  2.11910693e-01,\n",
       "         9.44274656e-01, -1.29424214e-01],\n",
       "       [ 3.28648816e-01,  6.57297632e-01, -9.58941599e-02,\n",
       "        -5.49278233e-02,  6.69131544e-01],\n",
       "       [ 2.83419571e-01,  5.66839141e-01, -1.25162336e-01,\n",
       "        -2.17229773e-01, -7.31787094e-01],\n",
       "       [-8.95676196e-01,  4.40074544e-01, -6.21084324e-02,\n",
       "         1.55271081e-02, -2.49800181e-16],\n",
       "       [ 9.47279985e-03, -1.25046877e-01, -9.62483818e-01,\n",
       "         2.40620955e-01, -4.01154804e-17]])"
      ]
     },
     "metadata": {},
     "output_type": "display_data"
    }
   ],
   "source": [
    "show(Vh)"
   ]
  },
  {
   "cell_type": "code",
   "execution_count": 108,
   "id": "9a200fdd-ef9d-4a6f-bfa6-7361327e5816",
   "metadata": {},
   "outputs": [
    {
     "data": {
      "text/html": [
       "<html>\\(\\displaystyle \\left(\\begin{array}{rrrrr}\n",
       "0.09663188515033123 & 0.32864881615456093 & 0.2834195706318637 & 0.0 & 0.8957262870963142 \\\\\n",
       "0.19326377030066247 & 0.6572976323091219 & 0.5668391412637274 & 0.1203858530857692 & -0.44137237335180696 \\\\\n",
       "0.21191069259417977 & -0.0958941598596308 & -0.12516233590635695 & 0.9630868246861536 & 0.05192616157080105 \\\\\n",
       "0.9442746555270503 & -0.05492782328396233 & -0.21722977299356414 & -0.2407717061715384 & -0.012981540392700263 \\\\\n",
       "-0.12942421394388132 & 0.669131543521249 & -0.7317870935660721 & 0.0 & 0.0\n",
       "\\end{array}\\right)\\)</html>"
      ],
      "text/latex": [
       "$\\displaystyle \\left(\\begin{array}{rrrrr}\n",
       "0.09663188515033123 & 0.32864881615456093 & 0.2834195706318637 & 0.0 & 0.8957262870963142 \\\\\n",
       "0.19326377030066247 & 0.6572976323091219 & 0.5668391412637274 & 0.1203858530857692 & -0.44137237335180696 \\\\\n",
       "0.21191069259417977 & -0.0958941598596308 & -0.12516233590635695 & 0.9630868246861536 & 0.05192616157080105 \\\\\n",
       "0.9442746555270503 & -0.05492782328396233 & -0.21722977299356414 & -0.2407717061715384 & -0.012981540392700263 \\\\\n",
       "-0.12942421394388132 & 0.669131543521249 & -0.7317870935660721 & 0.0 & 0.0\n",
       "\\end{array}\\right)$"
      ],
      "text/plain": [
       "[  0.09663188515033123   0.32864881615456093    0.2834195706318637                   0.0    0.8957262870963142]\n",
       "[  0.19326377030066247    0.6572976323091219    0.5668391412637274    0.1203858530857692  -0.44137237335180696]\n",
       "[  0.21191069259417977   -0.0958941598596308  -0.12516233590635695    0.9630868246861536   0.05192616157080105]\n",
       "[   0.9442746555270503  -0.05492782328396233  -0.21722977299356414   -0.2407717061715384 -0.012981540392700263]\n",
       "[ -0.12942421394388132     0.669131543521249   -0.7317870935660721                   0.0                   0.0]"
      ]
     },
     "metadata": {},
     "output_type": "display_data"
    }
   ],
   "source": [
    "show(Q2)"
   ]
  }
 ],
 "metadata": {
  "kernelspec": {
   "display_name": "SageMath 10.3",
   "language": "sage",
   "name": "sagemath"
  },
  "language_info": {
   "codemirror_mode": {
    "name": "ipython",
    "version": 3
   },
   "file_extension": ".py",
   "mimetype": "text/x-python",
   "name": "python",
   "nbconvert_exporter": "python",
   "pygments_lexer": "ipython3",
   "version": "3.11.8"
  }
 },
 "nbformat": 4,
 "nbformat_minor": 5
}
